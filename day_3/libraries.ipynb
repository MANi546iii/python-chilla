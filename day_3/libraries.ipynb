{
 "cells": [
  {
   "cell_type": "markdown",
   "id": "42422921",
   "metadata": {},
   "source": [
    "1.  Topic : Libraries in python\n",
    "2.  Authorized by: Abdul Rehman"
   ]
  },
  {
   "cell_type": "markdown",
   "id": "1475740f",
   "metadata": {},
   "source": [
    "1. pandas\n",
    "2. numpy\n",
    "3. matplotlib\n",
    "4. seaborn\n",
    "5. plotly\n",
    "6. scipy\n",
    "7. scikit-learn\n",
    "8. streamlit\n",
    "   "
   ]
  },
  {
   "cell_type": "code",
   "execution_count": null,
   "id": "44578766",
   "metadata": {},
   "outputs": [],
   "source": [
    "#pip install pandas numpy \n",
    "\n"
   ]
  },
  {
   "cell_type": "code",
   "execution_count": 1,
   "id": "3da86ff1",
   "metadata": {},
   "outputs": [],
   "source": [
    "import pandas as pd\n",
    "import numpy as np\n",
    "import matplotlib.pyplot as plt\n",
    "import seaborn as sns\n",
    "import plotly as px"
   ]
  },
  {
   "cell_type": "code",
   "execution_count": null,
   "id": "fb48581e",
   "metadata": {},
   "outputs": [],
   "source": []
  }
 ],
 "metadata": {
  "kernelspec": {
   "display_name": "Python 3",
   "language": "python",
   "name": "python3"
  },
  "language_info": {
   "codemirror_mode": {
    "name": "ipython",
    "version": 3
   },
   "file_extension": ".py",
   "mimetype": "text/x-python",
   "name": "python",
   "nbconvert_exporter": "python",
   "pygments_lexer": "ipython3",
   "version": "3.13.5"
  }
 },
 "nbformat": 4,
 "nbformat_minor": 5
}
