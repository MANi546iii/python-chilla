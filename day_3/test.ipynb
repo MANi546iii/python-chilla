{
 "cells": [
  {
   "cell_type": "markdown",
   "id": "0bc4dc65",
   "metadata": {},
   "source": [
    "#**code ko separate krne ke liye ipynb file bnate hain**"
   ]
  },
  {
   "cell_type": "markdown",
   "id": "219341b4",
   "metadata": {},
   "source": [
    "Subject of this python notebook:\n",
    "Authoried by:Abdul Rehman\n",
    "where to contact: github link or email\n",
    "[lecture -4]"
   ]
  },
  {
   "cell_type": "code",
   "execution_count": 6,
   "id": "fefd5266",
   "metadata": {},
   "outputs": [
    {
     "name": "stdout",
     "output_type": "stream",
     "text": [
      "mani\n"
     ]
    },
    {
     "data": {
      "text/plain": [
       "13"
      ]
     },
     "execution_count": 6,
     "metadata": {},
     "output_type": "execute_result"
    }
   ],
   "source": [
    "#code 1\n",
    "print(\"mani\")\n",
    "4+3+6"
   ]
  },
  {
   "cell_type": "markdown",
   "id": "0cb3b705",
   "metadata": {},
   "source": [
    "*## Is cell ko input function ke liye use krte hain*"
   ]
  },
  {
   "cell_type": "code",
   "execution_count": 7,
   "id": "dbe676d8",
   "metadata": {},
   "outputs": [
    {
     "ename": "",
     "evalue": "",
     "output_type": "error",
     "traceback": [
      "\u001b[1;31mCannot execute code, session has been disposed. Please try restarting the Kernel."
     ]
    },
    {
     "ename": "",
     "evalue": "",
     "output_type": "error",
     "traceback": [
      "\u001b[1;31mCannot execute code, session has been disposed. Please try restarting the Kernel. \n",
      "\u001b[1;31mView Jupyter <a href='command:jupyter.viewOutput'>log</a> for further details."
     ]
    }
   ],
   "source": [
    "#code2\n",
    "name = input(\"what is your name?\")\n",
    "print(name)\n",
    "\n"
   ]
  },
  {
   "cell_type": "code",
   "execution_count": 4,
   "id": "5996e0a1",
   "metadata": {},
   "outputs": [
    {
     "data": {
      "text/plain": [
       "('mangoes', 'oranges')"
      ]
     },
     "execution_count": 4,
     "metadata": {},
     "output_type": "execute_result"
    }
   ],
   "source": [
    "#code 3\n",
    "fruit_basket = \"mangoes\",\"oranges\"\n",
    "fruit_basket"
   ]
  },
  {
   "cell_type": "code",
   "execution_count": 5,
   "id": "8b282f33",
   "metadata": {},
   "outputs": [
    {
     "data": {
      "text/plain": [
       "2"
      ]
     },
     "execution_count": 5,
     "metadata": {},
     "output_type": "execute_result"
    }
   ],
   "source": [
    "3+3-4"
   ]
  },
  {
   "cell_type": "code",
   "execution_count": 6,
   "id": "ff987881",
   "metadata": {},
   "outputs": [
    {
     "data": {
      "text/plain": [
       "94.66666666666667"
      ]
     },
     "execution_count": 6,
     "metadata": {},
     "output_type": "execute_result"
    }
   ],
   "source": [
    "44+3+44+33/9"
   ]
  },
  {
   "cell_type": "code",
   "execution_count": 7,
   "id": "ec5bf587",
   "metadata": {},
   "outputs": [
    {
     "data": {
      "text/plain": [
       "'(hellow world)'"
      ]
     },
     "execution_count": 7,
     "metadata": {},
     "output_type": "execute_result"
    }
   ],
   "source": [
    "x = \"(hellow world)\"\n",
    "x"
   ]
  },
  {
   "cell_type": "code",
   "execution_count": 10,
   "id": "abf6c0ab",
   "metadata": {},
   "outputs": [],
   "source": [
    "n = 79%9"
   ]
  },
  {
   "cell_type": "code",
   "execution_count": 11,
   "id": "2a4b2028",
   "metadata": {},
   "outputs": [
    {
     "data": {
      "text/plain": [
       "0"
      ]
     },
     "execution_count": 11,
     "metadata": {},
     "output_type": "execute_result"
    }
   ],
   "source": [
    "12%4"
   ]
  },
  {
   "cell_type": "code",
   "execution_count": 12,
   "id": "90f7da27",
   "metadata": {},
   "outputs": [
    {
     "data": {
      "text/plain": [
       "1"
      ]
     },
     "execution_count": 12,
     "metadata": {},
     "output_type": "execute_result"
    }
   ],
   "source": [
    "13%3"
   ]
  },
  {
   "cell_type": "code",
   "execution_count": 13,
   "id": "bd67c021",
   "metadata": {},
   "outputs": [
    {
     "data": {
      "text/plain": [
       "27"
      ]
     },
     "execution_count": 13,
     "metadata": {},
     "output_type": "execute_result"
    }
   ],
   "source": [
    "3**3"
   ]
  }
 ],
 "metadata": {
  "kernelspec": {
   "display_name": "Python 3",
   "language": "python",
   "name": "python3"
  },
  "language_info": {
   "codemirror_mode": {
    "name": "ipython",
    "version": 3
   },
   "file_extension": ".py",
   "mimetype": "text/x-python",
   "name": "python",
   "nbconvert_exporter": "python",
   "pygments_lexer": "ipython3",
   "version": "3.13.5"
  }
 },
 "nbformat": 4,
 "nbformat_minor": 5
}
