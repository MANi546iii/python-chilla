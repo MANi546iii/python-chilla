{
 "cells": [
  {
   "cell_type": "markdown",
   "id": "105a5779",
   "metadata": {},
   "source": [
    "# How to import dataset in python using library\n",
    "Written by : Abdul Rehman\\\n",
    "Date: 26.08.2025\\\n",
    "Email: oyeeemani47@gmail.com"
   ]
  },
  {
   "cell_type": "code",
   "execution_count": null,
   "id": "3ef6a077",
   "metadata": {},
   "outputs": [],
   "source": [
    "# Step-1\n",
    "#Importing libraries\n",
    "import pandas as pd"
   ]
  },
  {
   "cell_type": "code",
   "execution_count": null,
   "id": "04c48877",
   "metadata": {},
   "outputs": [],
   "source": [
    "# Step-2 \n",
    "#reading/importing dataset with name\n",
    "df = pd.read_excel(\"pandas_01_day6.xlsx\")     # write the path if you want to load data from day_01 to day_02."
   ]
  },
  {
   "cell_type": "code",
   "execution_count": 5,
   "id": "0b6d84fb",
   "metadata": {},
   "outputs": [
    {
     "name": "stdout",
     "output_type": "stream",
     "text": [
      "   height  weight favourite_Dish\n",
      "0     5.8     101  Chicken Pulao\n",
      "1     6.2      92        Biryani\n",
      "2     5.9      62  Karahi Ghosht\n",
      "3     5.9      95  Chicken Pulao\n",
      "4     5.9      55  Chicken Pulao\n",
      "..    ...     ...            ...\n",
      "82    5.4      55          Pasta\n",
      "83    5.9      75  Karahi Ghosht\n",
      "84    5.4      61        Biryani\n",
      "85    6.2      68  Chicken Pulao\n",
      "86    5.1      96        Biryani\n",
      "\n",
      "[87 rows x 3 columns]\n"
     ]
    }
   ],
   "source": [
    "print(df)"
   ]
  },
  {
   "cell_type": "code",
   "execution_count": 7,
   "id": "8ad28dba",
   "metadata": {},
   "outputs": [
    {
     "data": {
      "application/vnd.microsoft.datawrangler.viewer.v0+json": {
       "columns": [
        {
         "name": "index",
         "rawType": "int64",
         "type": "integer"
        },
        {
         "name": "height",
         "rawType": "object",
         "type": "unknown"
        },
        {
         "name": "weight",
         "rawType": "int64",
         "type": "integer"
        },
        {
         "name": "favourite_Dish",
         "rawType": "object",
         "type": "string"
        }
       ],
       "ref": "ca9e8749-f51c-4124-8158-67de65583f7f",
       "rows": [
        [
         "0",
         "5.8",
         "101",
         "Chicken Pulao"
        ],
        [
         "1",
         "6.2",
         "92",
         "Biryani"
        ],
        [
         "2",
         "5.9",
         "62",
         "Karahi Ghosht"
        ],
        [
         "3",
         "5.9",
         "95",
         "Chicken Pulao"
        ],
        [
         "4",
         "5.9",
         "55",
         "Chicken Pulao"
        ]
       ],
       "shape": {
        "columns": 3,
        "rows": 5
       }
      },
      "text/html": [
       "<div>\n",
       "<style scoped>\n",
       "    .dataframe tbody tr th:only-of-type {\n",
       "        vertical-align: middle;\n",
       "    }\n",
       "\n",
       "    .dataframe tbody tr th {\n",
       "        vertical-align: top;\n",
       "    }\n",
       "\n",
       "    .dataframe thead th {\n",
       "        text-align: right;\n",
       "    }\n",
       "</style>\n",
       "<table border=\"1\" class=\"dataframe\">\n",
       "  <thead>\n",
       "    <tr style=\"text-align: right;\">\n",
       "      <th></th>\n",
       "      <th>height</th>\n",
       "      <th>weight</th>\n",
       "      <th>favourite_Dish</th>\n",
       "    </tr>\n",
       "  </thead>\n",
       "  <tbody>\n",
       "    <tr>\n",
       "      <th>0</th>\n",
       "      <td>5.8</td>\n",
       "      <td>101</td>\n",
       "      <td>Chicken Pulao</td>\n",
       "    </tr>\n",
       "    <tr>\n",
       "      <th>1</th>\n",
       "      <td>6.2</td>\n",
       "      <td>92</td>\n",
       "      <td>Biryani</td>\n",
       "    </tr>\n",
       "    <tr>\n",
       "      <th>2</th>\n",
       "      <td>5.9</td>\n",
       "      <td>62</td>\n",
       "      <td>Karahi Ghosht</td>\n",
       "    </tr>\n",
       "    <tr>\n",
       "      <th>3</th>\n",
       "      <td>5.9</td>\n",
       "      <td>95</td>\n",
       "      <td>Chicken Pulao</td>\n",
       "    </tr>\n",
       "    <tr>\n",
       "      <th>4</th>\n",
       "      <td>5.9</td>\n",
       "      <td>55</td>\n",
       "      <td>Chicken Pulao</td>\n",
       "    </tr>\n",
       "  </tbody>\n",
       "</table>\n",
       "</div>"
      ],
      "text/plain": [
       "  height  weight favourite_Dish\n",
       "0    5.8     101  Chicken Pulao\n",
       "1    6.2      92        Biryani\n",
       "2    5.9      62  Karahi Ghosht\n",
       "3    5.9      95  Chicken Pulao\n",
       "4    5.9      55  Chicken Pulao"
      ]
     },
     "execution_count": 7,
     "metadata": {},
     "output_type": "execute_result"
    }
   ],
   "source": [
    "df.head()"
   ]
  },
  {
   "cell_type": "code",
   "execution_count": 8,
   "id": "aae77d68",
   "metadata": {},
   "outputs": [
    {
     "data": {
      "application/vnd.microsoft.datawrangler.viewer.v0+json": {
       "columns": [
        {
         "name": "index",
         "rawType": "int64",
         "type": "integer"
        },
        {
         "name": "height",
         "rawType": "object",
         "type": "unknown"
        },
        {
         "name": "weight",
         "rawType": "int64",
         "type": "integer"
        },
        {
         "name": "favourite_Dish",
         "rawType": "object",
         "type": "string"
        }
       ],
       "ref": "5b1005fd-009c-44e4-abe1-1575fa0f407a",
       "rows": [
        [
         "82",
         "5.4",
         "55",
         "Pasta"
        ],
        [
         "83",
         "5.9",
         "75",
         "Karahi Ghosht"
        ],
        [
         "84",
         "5.4",
         "61",
         "Biryani"
        ],
        [
         "85",
         "6.2",
         "68",
         "Chicken Pulao"
        ],
        [
         "86",
         "5.1",
         "96",
         "Biryani"
        ]
       ],
       "shape": {
        "columns": 3,
        "rows": 5
       }
      },
      "text/html": [
       "<div>\n",
       "<style scoped>\n",
       "    .dataframe tbody tr th:only-of-type {\n",
       "        vertical-align: middle;\n",
       "    }\n",
       "\n",
       "    .dataframe tbody tr th {\n",
       "        vertical-align: top;\n",
       "    }\n",
       "\n",
       "    .dataframe thead th {\n",
       "        text-align: right;\n",
       "    }\n",
       "</style>\n",
       "<table border=\"1\" class=\"dataframe\">\n",
       "  <thead>\n",
       "    <tr style=\"text-align: right;\">\n",
       "      <th></th>\n",
       "      <th>height</th>\n",
       "      <th>weight</th>\n",
       "      <th>favourite_Dish</th>\n",
       "    </tr>\n",
       "  </thead>\n",
       "  <tbody>\n",
       "    <tr>\n",
       "      <th>82</th>\n",
       "      <td>5.4</td>\n",
       "      <td>55</td>\n",
       "      <td>Pasta</td>\n",
       "    </tr>\n",
       "    <tr>\n",
       "      <th>83</th>\n",
       "      <td>5.9</td>\n",
       "      <td>75</td>\n",
       "      <td>Karahi Ghosht</td>\n",
       "    </tr>\n",
       "    <tr>\n",
       "      <th>84</th>\n",
       "      <td>5.4</td>\n",
       "      <td>61</td>\n",
       "      <td>Biryani</td>\n",
       "    </tr>\n",
       "    <tr>\n",
       "      <th>85</th>\n",
       "      <td>6.2</td>\n",
       "      <td>68</td>\n",
       "      <td>Chicken Pulao</td>\n",
       "    </tr>\n",
       "    <tr>\n",
       "      <th>86</th>\n",
       "      <td>5.1</td>\n",
       "      <td>96</td>\n",
       "      <td>Biryani</td>\n",
       "    </tr>\n",
       "  </tbody>\n",
       "</table>\n",
       "</div>"
      ],
      "text/plain": [
       "   height  weight favourite_Dish\n",
       "82    5.4      55          Pasta\n",
       "83    5.9      75  Karahi Ghosht\n",
       "84    5.4      61        Biryani\n",
       "85    6.2      68  Chicken Pulao\n",
       "86    5.1      96        Biryani"
      ]
     },
     "execution_count": 8,
     "metadata": {},
     "output_type": "execute_result"
    }
   ],
   "source": [
    "df.tail()"
   ]
  },
  {
   "cell_type": "code",
   "execution_count": 11,
   "id": "baf800d3",
   "metadata": {},
   "outputs": [
    {
     "data": {
      "text/plain": [
       "(87, 3)"
      ]
     },
     "execution_count": 11,
     "metadata": {},
     "output_type": "execute_result"
    }
   ],
   "source": [
    "df.shape"
   ]
  },
  {
   "cell_type": "code",
   "execution_count": 13,
   "id": "e58b4527",
   "metadata": {},
   "outputs": [
    {
     "name": "stdout",
     "output_type": "stream",
     "text": [
      "<class 'pandas.core.frame.DataFrame'>\n",
      "RangeIndex: 87 entries, 0 to 86\n",
      "Data columns (total 3 columns):\n",
      " #   Column          Non-Null Count  Dtype \n",
      "---  ------          --------------  ----- \n",
      " 0   height          87 non-null     object\n",
      " 1   weight          87 non-null     int64 \n",
      " 2   favourite_Dish  87 non-null     object\n",
      "dtypes: int64(1), object(2)\n",
      "memory usage: 2.2+ KB\n"
     ]
    }
   ],
   "source": [
    "df.info()"
   ]
  },
  {
   "cell_type": "code",
   "execution_count": 8,
   "id": "e8878033",
   "metadata": {},
   "outputs": [
    {
     "data": {
      "application/vnd.microsoft.datawrangler.viewer.v0+json": {
       "columns": [
        {
         "name": "index",
         "rawType": "int64",
         "type": "integer"
        },
        {
         "name": "Names",
         "rawType": "object",
         "type": "unknown"
        },
        {
         "name": "24 June 2025",
         "rawType": "float64",
         "type": "float"
        },
        {
         "name": "23 July 2025",
         "rawType": "float64",
         "type": "float"
        },
        {
         "name": "20 Aug 2025",
         "rawType": "float64",
         "type": "float"
        }
       ],
       "ref": "c0a01b2b-5149-4ed1-95c5-8c4c1933b001",
       "rows": [
        [
         "0",
         "Haji Sajid",
         "4000.0",
         "2075.0",
         "2075.0"
        ],
        [
         "1",
         "Mas Asif",
         "2200.0",
         "1150.0",
         "2090.0"
        ],
        [
         "2",
         "Mas Shuban",
         "5920.0",
         "5730.0",
         "1890.0"
        ],
        [
         "3",
         "M Idrees",
         "20930.0",
         "23785.0",
         "24995.0"
        ],
        [
         "4",
         "Mas Haseeb ",
         "12595.0",
         "3730.0",
         "1335.0"
        ],
        [
         "5",
         "Mazhar hussain",
         "10830.0",
         "17690.0",
         "17400.0"
        ],
        [
         "6",
         "Ali Akbar",
         "4835.0",
         "4235.0",
         "3220.0"
        ],
        [
         "7",
         "M Imran",
         "3285.0",
         null,
         "2565.0"
        ],
        [
         "8",
         "Sajad Mehmood",
         "7065.0",
         "12875.0",
         "15365.0"
        ],
        [
         "9",
         "Zahoor hussain",
         "13950.0",
         "14840.0",
         "7595.0"
        ],
        [
         "10",
         "M Rizwan",
         "11780.0",
         "12010.0",
         "13340.0"
        ],
        [
         "11",
         "M Ikram",
         "18795.0",
         "24585.0",
         "9000.0"
        ],
        [
         "12",
         "Raja ismail",
         "14380.0",
         "16500.0",
         "15700.0"
        ],
        [
         "13",
         "Raja akhtar",
         "3825.0",
         "2645.0",
         "2525.0"
        ],
        [
         "14",
         "Quddous Kiani",
         "21295.0",
         "21295.0",
         "15395.0"
        ],
        [
         "15",
         "Azaad Kiani",
         "14925.0",
         "17740.0",
         "14325.0"
        ],
        [
         "16",
         "Raja Kaleem",
         "22935.0",
         "13665.0",
         "13665.0"
        ],
        [
         "17",
         "Raja masood",
         "7705.0",
         "7705.0",
         "7705.0"
        ],
        [
         "18",
         "Ushrat Kiani",
         "16510.0",
         "16510.0",
         "16510.0"
        ],
        [
         "19",
         "M Noshad",
         "8025.0",
         null,
         null
        ],
        [
         "20",
         "M Arif",
         "15055.0",
         "14065.0",
         "13080.0"
        ],
        [
         "21",
         "M lateef",
         "7780.0",
         "6470.0",
         "3105.0"
        ],
        [
         "22",
         "Raja Wazeer",
         "7820.0",
         "6580.0",
         "5780.0"
        ],
        [
         "23",
         "Raja Safdar",
         "26560.0",
         "22600.0",
         "25500.0"
        ],
        [
         "24",
         "Sufi Naeem",
         "5000.0",
         "1595.0",
         null
        ],
        [
         "25",
         "M Mushtaq",
         "6655.0",
         null,
         "5150.0"
        ],
        [
         "26",
         "Basheer Minhas",
         "3125.0",
         "3125.0",
         "1705.0"
        ],
        [
         "27",
         "Ameer Ahmad",
         "805.0",
         "805.0",
         "3995.0"
        ],
        [
         "28",
         "Talib hussain",
         "7555.0",
         "7510.0",
         "6100.0"
        ],
        [
         "29",
         "Dukhter Qurban",
         "8680.0",
         "8680.0",
         null
        ],
        [
         "30",
         "M Shahid Azaad",
         "11600.0",
         "13000.0",
         "13000.0"
        ],
        [
         "31",
         "M Ashraf",
         "2755.0",
         "2175.0",
         "2425.0"
        ],
        [
         "32",
         "Humaiyun ",
         "17240.0",
         "18530.0",
         "15620.0"
        ],
        [
         "33",
         "M Talat",
         "18400.0",
         "13910.0",
         "14430.0"
        ],
        [
         "34",
         "Haji Sheraz",
         "5395.0",
         null,
         null
        ],
        [
         "35",
         "M Nauman",
         "11480.0",
         "12230.0",
         "8240.0"
        ],
        [
         "36",
         "Mazhar hussain",
         "11540.0",
         "11540.0",
         "11540.0"
        ],
        [
         "37",
         "M Sajad",
         "17525.0",
         "15290.0",
         "15290.0"
        ],
        [
         "38",
         "Sakhawat Huss",
         "41655.0",
         "39835.0",
         "30608.0"
        ],
        [
         "39",
         null,
         null,
         null,
         null
        ],
        [
         "40",
         "Total",
         "452410.0",
         "416705.0",
         "362263.0"
        ]
       ],
       "shape": {
        "columns": 4,
        "rows": 41
       }
      },
      "text/html": [
       "<div>\n",
       "<style scoped>\n",
       "    .dataframe tbody tr th:only-of-type {\n",
       "        vertical-align: middle;\n",
       "    }\n",
       "\n",
       "    .dataframe tbody tr th {\n",
       "        vertical-align: top;\n",
       "    }\n",
       "\n",
       "    .dataframe thead th {\n",
       "        text-align: right;\n",
       "    }\n",
       "</style>\n",
       "<table border=\"1\" class=\"dataframe\">\n",
       "  <thead>\n",
       "    <tr style=\"text-align: right;\">\n",
       "      <th></th>\n",
       "      <th>Names</th>\n",
       "      <th>24 June 2025</th>\n",
       "      <th>23 July 2025</th>\n",
       "      <th>20 Aug 2025</th>\n",
       "    </tr>\n",
       "  </thead>\n",
       "  <tbody>\n",
       "    <tr>\n",
       "      <th>0</th>\n",
       "      <td>Haji Sajid</td>\n",
       "      <td>4000.0</td>\n",
       "      <td>2075.0</td>\n",
       "      <td>2075.0</td>\n",
       "    </tr>\n",
       "    <tr>\n",
       "      <th>1</th>\n",
       "      <td>Mas Asif</td>\n",
       "      <td>2200.0</td>\n",
       "      <td>1150.0</td>\n",
       "      <td>2090.0</td>\n",
       "    </tr>\n",
       "    <tr>\n",
       "      <th>2</th>\n",
       "      <td>Mas Shuban</td>\n",
       "      <td>5920.0</td>\n",
       "      <td>5730.0</td>\n",
       "      <td>1890.0</td>\n",
       "    </tr>\n",
       "    <tr>\n",
       "      <th>3</th>\n",
       "      <td>M Idrees</td>\n",
       "      <td>20930.0</td>\n",
       "      <td>23785.0</td>\n",
       "      <td>24995.0</td>\n",
       "    </tr>\n",
       "    <tr>\n",
       "      <th>4</th>\n",
       "      <td>Mas Haseeb</td>\n",
       "      <td>12595.0</td>\n",
       "      <td>3730.0</td>\n",
       "      <td>1335.0</td>\n",
       "    </tr>\n",
       "    <tr>\n",
       "      <th>5</th>\n",
       "      <td>Mazhar hussain</td>\n",
       "      <td>10830.0</td>\n",
       "      <td>17690.0</td>\n",
       "      <td>17400.0</td>\n",
       "    </tr>\n",
       "    <tr>\n",
       "      <th>6</th>\n",
       "      <td>Ali Akbar</td>\n",
       "      <td>4835.0</td>\n",
       "      <td>4235.0</td>\n",
       "      <td>3220.0</td>\n",
       "    </tr>\n",
       "    <tr>\n",
       "      <th>7</th>\n",
       "      <td>M Imran</td>\n",
       "      <td>3285.0</td>\n",
       "      <td>NaN</td>\n",
       "      <td>2565.0</td>\n",
       "    </tr>\n",
       "    <tr>\n",
       "      <th>8</th>\n",
       "      <td>Sajad Mehmood</td>\n",
       "      <td>7065.0</td>\n",
       "      <td>12875.0</td>\n",
       "      <td>15365.0</td>\n",
       "    </tr>\n",
       "    <tr>\n",
       "      <th>9</th>\n",
       "      <td>Zahoor hussain</td>\n",
       "      <td>13950.0</td>\n",
       "      <td>14840.0</td>\n",
       "      <td>7595.0</td>\n",
       "    </tr>\n",
       "    <tr>\n",
       "      <th>10</th>\n",
       "      <td>M Rizwan</td>\n",
       "      <td>11780.0</td>\n",
       "      <td>12010.0</td>\n",
       "      <td>13340.0</td>\n",
       "    </tr>\n",
       "    <tr>\n",
       "      <th>11</th>\n",
       "      <td>M Ikram</td>\n",
       "      <td>18795.0</td>\n",
       "      <td>24585.0</td>\n",
       "      <td>9000.0</td>\n",
       "    </tr>\n",
       "    <tr>\n",
       "      <th>12</th>\n",
       "      <td>Raja ismail</td>\n",
       "      <td>14380.0</td>\n",
       "      <td>16500.0</td>\n",
       "      <td>15700.0</td>\n",
       "    </tr>\n",
       "    <tr>\n",
       "      <th>13</th>\n",
       "      <td>Raja akhtar</td>\n",
       "      <td>3825.0</td>\n",
       "      <td>2645.0</td>\n",
       "      <td>2525.0</td>\n",
       "    </tr>\n",
       "    <tr>\n",
       "      <th>14</th>\n",
       "      <td>Quddous Kiani</td>\n",
       "      <td>21295.0</td>\n",
       "      <td>21295.0</td>\n",
       "      <td>15395.0</td>\n",
       "    </tr>\n",
       "    <tr>\n",
       "      <th>15</th>\n",
       "      <td>Azaad Kiani</td>\n",
       "      <td>14925.0</td>\n",
       "      <td>17740.0</td>\n",
       "      <td>14325.0</td>\n",
       "    </tr>\n",
       "    <tr>\n",
       "      <th>16</th>\n",
       "      <td>Raja Kaleem</td>\n",
       "      <td>22935.0</td>\n",
       "      <td>13665.0</td>\n",
       "      <td>13665.0</td>\n",
       "    </tr>\n",
       "    <tr>\n",
       "      <th>17</th>\n",
       "      <td>Raja masood</td>\n",
       "      <td>7705.0</td>\n",
       "      <td>7705.0</td>\n",
       "      <td>7705.0</td>\n",
       "    </tr>\n",
       "    <tr>\n",
       "      <th>18</th>\n",
       "      <td>Ushrat Kiani</td>\n",
       "      <td>16510.0</td>\n",
       "      <td>16510.0</td>\n",
       "      <td>16510.0</td>\n",
       "    </tr>\n",
       "    <tr>\n",
       "      <th>19</th>\n",
       "      <td>M Noshad</td>\n",
       "      <td>8025.0</td>\n",
       "      <td>NaN</td>\n",
       "      <td>NaN</td>\n",
       "    </tr>\n",
       "    <tr>\n",
       "      <th>20</th>\n",
       "      <td>M Arif</td>\n",
       "      <td>15055.0</td>\n",
       "      <td>14065.0</td>\n",
       "      <td>13080.0</td>\n",
       "    </tr>\n",
       "    <tr>\n",
       "      <th>21</th>\n",
       "      <td>M lateef</td>\n",
       "      <td>7780.0</td>\n",
       "      <td>6470.0</td>\n",
       "      <td>3105.0</td>\n",
       "    </tr>\n",
       "    <tr>\n",
       "      <th>22</th>\n",
       "      <td>Raja Wazeer</td>\n",
       "      <td>7820.0</td>\n",
       "      <td>6580.0</td>\n",
       "      <td>5780.0</td>\n",
       "    </tr>\n",
       "    <tr>\n",
       "      <th>23</th>\n",
       "      <td>Raja Safdar</td>\n",
       "      <td>26560.0</td>\n",
       "      <td>22600.0</td>\n",
       "      <td>25500.0</td>\n",
       "    </tr>\n",
       "    <tr>\n",
       "      <th>24</th>\n",
       "      <td>Sufi Naeem</td>\n",
       "      <td>5000.0</td>\n",
       "      <td>1595.0</td>\n",
       "      <td>NaN</td>\n",
       "    </tr>\n",
       "    <tr>\n",
       "      <th>25</th>\n",
       "      <td>M Mushtaq</td>\n",
       "      <td>6655.0</td>\n",
       "      <td>NaN</td>\n",
       "      <td>5150.0</td>\n",
       "    </tr>\n",
       "    <tr>\n",
       "      <th>26</th>\n",
       "      <td>Basheer Minhas</td>\n",
       "      <td>3125.0</td>\n",
       "      <td>3125.0</td>\n",
       "      <td>1705.0</td>\n",
       "    </tr>\n",
       "    <tr>\n",
       "      <th>27</th>\n",
       "      <td>Ameer Ahmad</td>\n",
       "      <td>805.0</td>\n",
       "      <td>805.0</td>\n",
       "      <td>3995.0</td>\n",
       "    </tr>\n",
       "    <tr>\n",
       "      <th>28</th>\n",
       "      <td>Talib hussain</td>\n",
       "      <td>7555.0</td>\n",
       "      <td>7510.0</td>\n",
       "      <td>6100.0</td>\n",
       "    </tr>\n",
       "    <tr>\n",
       "      <th>29</th>\n",
       "      <td>Dukhter Qurban</td>\n",
       "      <td>8680.0</td>\n",
       "      <td>8680.0</td>\n",
       "      <td>NaN</td>\n",
       "    </tr>\n",
       "    <tr>\n",
       "      <th>30</th>\n",
       "      <td>M Shahid Azaad</td>\n",
       "      <td>11600.0</td>\n",
       "      <td>13000.0</td>\n",
       "      <td>13000.0</td>\n",
       "    </tr>\n",
       "    <tr>\n",
       "      <th>31</th>\n",
       "      <td>M Ashraf</td>\n",
       "      <td>2755.0</td>\n",
       "      <td>2175.0</td>\n",
       "      <td>2425.0</td>\n",
       "    </tr>\n",
       "    <tr>\n",
       "      <th>32</th>\n",
       "      <td>Humaiyun</td>\n",
       "      <td>17240.0</td>\n",
       "      <td>18530.0</td>\n",
       "      <td>15620.0</td>\n",
       "    </tr>\n",
       "    <tr>\n",
       "      <th>33</th>\n",
       "      <td>M Talat</td>\n",
       "      <td>18400.0</td>\n",
       "      <td>13910.0</td>\n",
       "      <td>14430.0</td>\n",
       "    </tr>\n",
       "    <tr>\n",
       "      <th>34</th>\n",
       "      <td>Haji Sheraz</td>\n",
       "      <td>5395.0</td>\n",
       "      <td>NaN</td>\n",
       "      <td>NaN</td>\n",
       "    </tr>\n",
       "    <tr>\n",
       "      <th>35</th>\n",
       "      <td>M Nauman</td>\n",
       "      <td>11480.0</td>\n",
       "      <td>12230.0</td>\n",
       "      <td>8240.0</td>\n",
       "    </tr>\n",
       "    <tr>\n",
       "      <th>36</th>\n",
       "      <td>Mazhar hussain</td>\n",
       "      <td>11540.0</td>\n",
       "      <td>11540.0</td>\n",
       "      <td>11540.0</td>\n",
       "    </tr>\n",
       "    <tr>\n",
       "      <th>37</th>\n",
       "      <td>M Sajad</td>\n",
       "      <td>17525.0</td>\n",
       "      <td>15290.0</td>\n",
       "      <td>15290.0</td>\n",
       "    </tr>\n",
       "    <tr>\n",
       "      <th>38</th>\n",
       "      <td>Sakhawat Huss</td>\n",
       "      <td>41655.0</td>\n",
       "      <td>39835.0</td>\n",
       "      <td>30608.0</td>\n",
       "    </tr>\n",
       "    <tr>\n",
       "      <th>39</th>\n",
       "      <td>NaN</td>\n",
       "      <td>NaN</td>\n",
       "      <td>NaN</td>\n",
       "      <td>NaN</td>\n",
       "    </tr>\n",
       "    <tr>\n",
       "      <th>40</th>\n",
       "      <td>Total</td>\n",
       "      <td>452410.0</td>\n",
       "      <td>416705.0</td>\n",
       "      <td>362263.0</td>\n",
       "    </tr>\n",
       "  </tbody>\n",
       "</table>\n",
       "</div>"
      ],
      "text/plain": [
       "             Names  24 June 2025  23 July 2025  20 Aug 2025\n",
       "0       Haji Sajid        4000.0        2075.0       2075.0\n",
       "1         Mas Asif        2200.0        1150.0       2090.0\n",
       "2       Mas Shuban        5920.0        5730.0       1890.0\n",
       "3         M Idrees       20930.0       23785.0      24995.0\n",
       "4      Mas Haseeb        12595.0        3730.0       1335.0\n",
       "5   Mazhar hussain       10830.0       17690.0      17400.0\n",
       "6        Ali Akbar        4835.0        4235.0       3220.0\n",
       "7          M Imran        3285.0           NaN       2565.0\n",
       "8    Sajad Mehmood        7065.0       12875.0      15365.0\n",
       "9   Zahoor hussain       13950.0       14840.0       7595.0\n",
       "10        M Rizwan       11780.0       12010.0      13340.0\n",
       "11         M Ikram       18795.0       24585.0       9000.0\n",
       "12     Raja ismail       14380.0       16500.0      15700.0\n",
       "13     Raja akhtar        3825.0        2645.0       2525.0\n",
       "14   Quddous Kiani       21295.0       21295.0      15395.0\n",
       "15     Azaad Kiani       14925.0       17740.0      14325.0\n",
       "16     Raja Kaleem       22935.0       13665.0      13665.0\n",
       "17     Raja masood        7705.0        7705.0       7705.0\n",
       "18    Ushrat Kiani       16510.0       16510.0      16510.0\n",
       "19        M Noshad        8025.0           NaN          NaN\n",
       "20          M Arif       15055.0       14065.0      13080.0\n",
       "21        M lateef        7780.0        6470.0       3105.0\n",
       "22     Raja Wazeer        7820.0        6580.0       5780.0\n",
       "23     Raja Safdar       26560.0       22600.0      25500.0\n",
       "24      Sufi Naeem        5000.0        1595.0          NaN\n",
       "25       M Mushtaq        6655.0           NaN       5150.0\n",
       "26  Basheer Minhas        3125.0        3125.0       1705.0\n",
       "27     Ameer Ahmad         805.0         805.0       3995.0\n",
       "28   Talib hussain        7555.0        7510.0       6100.0\n",
       "29  Dukhter Qurban        8680.0        8680.0          NaN\n",
       "30  M Shahid Azaad       11600.0       13000.0      13000.0\n",
       "31        M Ashraf        2755.0        2175.0       2425.0\n",
       "32       Humaiyun        17240.0       18530.0      15620.0\n",
       "33         M Talat       18400.0       13910.0      14430.0\n",
       "34     Haji Sheraz        5395.0           NaN          NaN\n",
       "35        M Nauman       11480.0       12230.0       8240.0\n",
       "36  Mazhar hussain       11540.0       11540.0      11540.0\n",
       "37         M Sajad       17525.0       15290.0      15290.0\n",
       "38   Sakhawat Huss       41655.0       39835.0      30608.0\n",
       "39             NaN           NaN           NaN          NaN\n",
       "40           Total      452410.0      416705.0     362263.0"
      ]
     },
     "execution_count": 8,
     "metadata": {},
     "output_type": "execute_result"
    }
   ],
   "source": [
    "import pandas as pd\n",
    "df=pd.read_excel('GD STORE RECIEVABLE.xlsx')\n",
    "df"
   ]
  },
  {
   "cell_type": "code",
   "execution_count": 9,
   "id": "28ffcd4d",
   "metadata": {},
   "outputs": [
    {
     "data": {
      "application/vnd.microsoft.datawrangler.viewer.v0+json": {
       "columns": [
        {
         "name": "index",
         "rawType": "int64",
         "type": "integer"
        },
        {
         "name": "Names",
         "rawType": "object",
         "type": "string"
        },
        {
         "name": "24 June 2025",
         "rawType": "float64",
         "type": "float"
        },
        {
         "name": "23 July 2025",
         "rawType": "float64",
         "type": "float"
        },
        {
         "name": "20 Aug 2025",
         "rawType": "float64",
         "type": "float"
        }
       ],
       "ref": "d759f90d-ff15-4489-82c8-29cf16eb2d72",
       "rows": [
        [
         "0",
         "Haji Sajid",
         "4000.0",
         "2075.0",
         "2075.0"
        ],
        [
         "1",
         "Mas Asif",
         "2200.0",
         "1150.0",
         "2090.0"
        ],
        [
         "2",
         "Mas Shuban",
         "5920.0",
         "5730.0",
         "1890.0"
        ],
        [
         "3",
         "M Idrees",
         "20930.0",
         "23785.0",
         "24995.0"
        ],
        [
         "4",
         "Mas Haseeb ",
         "12595.0",
         "3730.0",
         "1335.0"
        ]
       ],
       "shape": {
        "columns": 4,
        "rows": 5
       }
      },
      "text/html": [
       "<div>\n",
       "<style scoped>\n",
       "    .dataframe tbody tr th:only-of-type {\n",
       "        vertical-align: middle;\n",
       "    }\n",
       "\n",
       "    .dataframe tbody tr th {\n",
       "        vertical-align: top;\n",
       "    }\n",
       "\n",
       "    .dataframe thead th {\n",
       "        text-align: right;\n",
       "    }\n",
       "</style>\n",
       "<table border=\"1\" class=\"dataframe\">\n",
       "  <thead>\n",
       "    <tr style=\"text-align: right;\">\n",
       "      <th></th>\n",
       "      <th>Names</th>\n",
       "      <th>24 June 2025</th>\n",
       "      <th>23 July 2025</th>\n",
       "      <th>20 Aug 2025</th>\n",
       "    </tr>\n",
       "  </thead>\n",
       "  <tbody>\n",
       "    <tr>\n",
       "      <th>0</th>\n",
       "      <td>Haji Sajid</td>\n",
       "      <td>4000.0</td>\n",
       "      <td>2075.0</td>\n",
       "      <td>2075.0</td>\n",
       "    </tr>\n",
       "    <tr>\n",
       "      <th>1</th>\n",
       "      <td>Mas Asif</td>\n",
       "      <td>2200.0</td>\n",
       "      <td>1150.0</td>\n",
       "      <td>2090.0</td>\n",
       "    </tr>\n",
       "    <tr>\n",
       "      <th>2</th>\n",
       "      <td>Mas Shuban</td>\n",
       "      <td>5920.0</td>\n",
       "      <td>5730.0</td>\n",
       "      <td>1890.0</td>\n",
       "    </tr>\n",
       "    <tr>\n",
       "      <th>3</th>\n",
       "      <td>M Idrees</td>\n",
       "      <td>20930.0</td>\n",
       "      <td>23785.0</td>\n",
       "      <td>24995.0</td>\n",
       "    </tr>\n",
       "    <tr>\n",
       "      <th>4</th>\n",
       "      <td>Mas Haseeb</td>\n",
       "      <td>12595.0</td>\n",
       "      <td>3730.0</td>\n",
       "      <td>1335.0</td>\n",
       "    </tr>\n",
       "  </tbody>\n",
       "</table>\n",
       "</div>"
      ],
      "text/plain": [
       "         Names  24 June 2025  23 July 2025  20 Aug 2025\n",
       "0   Haji Sajid        4000.0        2075.0       2075.0\n",
       "1     Mas Asif        2200.0        1150.0       2090.0\n",
       "2   Mas Shuban        5920.0        5730.0       1890.0\n",
       "3     M Idrees       20930.0       23785.0      24995.0\n",
       "4  Mas Haseeb        12595.0        3730.0       1335.0"
      ]
     },
     "execution_count": 9,
     "metadata": {},
     "output_type": "execute_result"
    }
   ],
   "source": [
    "df.head()"
   ]
  },
  {
   "cell_type": "code",
   "execution_count": 12,
   "id": "2ca679ab",
   "metadata": {},
   "outputs": [
    {
     "data": {
      "application/vnd.microsoft.datawrangler.viewer.v0+json": {
       "columns": [
        {
         "name": "index",
         "rawType": "int64",
         "type": "integer"
        },
        {
         "name": "Names",
         "rawType": "object",
         "type": "unknown"
        },
        {
         "name": "24 June 2025",
         "rawType": "float64",
         "type": "float"
        },
        {
         "name": "23 July 2025",
         "rawType": "float64",
         "type": "float"
        },
        {
         "name": "20 Aug 2025",
         "rawType": "float64",
         "type": "float"
        }
       ],
       "ref": "05433f4b-8404-4306-8456-726058478366",
       "rows": [
        [
         "0",
         "Haji Sajid",
         "4000.0",
         "2075.0",
         "2075.0"
        ],
        [
         "1",
         "Mas Asif",
         "2200.0",
         "1150.0",
         "2090.0"
        ],
        [
         "2",
         "Mas Shuban",
         "5920.0",
         "5730.0",
         "1890.0"
        ],
        [
         "3",
         "M Idrees",
         "20930.0",
         "23785.0",
         "24995.0"
        ],
        [
         "4",
         "Mas Haseeb ",
         "12595.0",
         "3730.0",
         "1335.0"
        ],
        [
         "5",
         "Mazhar hussain",
         "10830.0",
         "17690.0",
         "17400.0"
        ],
        [
         "6",
         "Ali Akbar",
         "4835.0",
         "4235.0",
         "3220.0"
        ],
        [
         "7",
         "M Imran",
         "3285.0",
         null,
         "2565.0"
        ],
        [
         "8",
         "Sajad Mehmood",
         "7065.0",
         "12875.0",
         "15365.0"
        ],
        [
         "9",
         "Zahoor hussain",
         "13950.0",
         "14840.0",
         "7595.0"
        ],
        [
         "10",
         "M Rizwan",
         "11780.0",
         "12010.0",
         "13340.0"
        ],
        [
         "11",
         "M Ikram",
         "18795.0",
         "24585.0",
         "9000.0"
        ],
        [
         "12",
         "Raja ismail",
         "14380.0",
         "16500.0",
         "15700.0"
        ],
        [
         "13",
         "Raja akhtar",
         "3825.0",
         "2645.0",
         "2525.0"
        ],
        [
         "14",
         "Quddous Kiani",
         "21295.0",
         "21295.0",
         "15395.0"
        ],
        [
         "15",
         "Azaad Kiani",
         "14925.0",
         "17740.0",
         "14325.0"
        ],
        [
         "16",
         "Raja Kaleem",
         "22935.0",
         "13665.0",
         "13665.0"
        ],
        [
         "17",
         "Raja masood",
         "7705.0",
         "7705.0",
         "7705.0"
        ],
        [
         "18",
         "Ushrat Kiani",
         "16510.0",
         "16510.0",
         "16510.0"
        ],
        [
         "19",
         "M Noshad",
         "8025.0",
         null,
         null
        ],
        [
         "20",
         "M Arif",
         "15055.0",
         "14065.0",
         "13080.0"
        ],
        [
         "21",
         "M lateef",
         "7780.0",
         "6470.0",
         "3105.0"
        ],
        [
         "22",
         "Raja Wazeer",
         "7820.0",
         "6580.0",
         "5780.0"
        ],
        [
         "23",
         "Raja Safdar",
         "26560.0",
         "22600.0",
         "25500.0"
        ],
        [
         "24",
         "Sufi Naeem",
         "5000.0",
         "1595.0",
         null
        ],
        [
         "25",
         "M Mushtaq",
         "6655.0",
         null,
         "5150.0"
        ],
        [
         "26",
         "Basheer Minhas",
         "3125.0",
         "3125.0",
         "1705.0"
        ],
        [
         "27",
         "Ameer Ahmad",
         "805.0",
         "805.0",
         "3995.0"
        ],
        [
         "28",
         "Talib hussain",
         "7555.0",
         "7510.0",
         "6100.0"
        ],
        [
         "29",
         "Dukhter Qurban",
         "8680.0",
         "8680.0",
         null
        ],
        [
         "30",
         "M Shahid Azaad",
         "11600.0",
         "13000.0",
         "13000.0"
        ],
        [
         "31",
         "M Ashraf",
         "2755.0",
         "2175.0",
         "2425.0"
        ],
        [
         "32",
         "Humaiyun ",
         "17240.0",
         "18530.0",
         "15620.0"
        ],
        [
         "33",
         "M Talat",
         "18400.0",
         "13910.0",
         "14430.0"
        ],
        [
         "34",
         "Haji Sheraz",
         "5395.0",
         null,
         null
        ],
        [
         "35",
         "M Nauman",
         "11480.0",
         "12230.0",
         "8240.0"
        ],
        [
         "36",
         "Mazhar hussain",
         "11540.0",
         "11540.0",
         "11540.0"
        ],
        [
         "37",
         "M Sajad",
         "17525.0",
         "15290.0",
         "15290.0"
        ],
        [
         "38",
         "Sakhawat Huss",
         "41655.0",
         "39835.0",
         "30608.0"
        ],
        [
         "39",
         null,
         null,
         null,
         null
        ],
        [
         "40",
         "Total",
         "452410.0",
         "416705.0",
         "362263.0"
        ]
       ],
       "shape": {
        "columns": 4,
        "rows": 41
       }
      },
      "text/html": [
       "<div>\n",
       "<style scoped>\n",
       "    .dataframe tbody tr th:only-of-type {\n",
       "        vertical-align: middle;\n",
       "    }\n",
       "\n",
       "    .dataframe tbody tr th {\n",
       "        vertical-align: top;\n",
       "    }\n",
       "\n",
       "    .dataframe thead th {\n",
       "        text-align: right;\n",
       "    }\n",
       "</style>\n",
       "<table border=\"1\" class=\"dataframe\">\n",
       "  <thead>\n",
       "    <tr style=\"text-align: right;\">\n",
       "      <th></th>\n",
       "      <th>Names</th>\n",
       "      <th>24 June 2025</th>\n",
       "      <th>23 July 2025</th>\n",
       "      <th>20 Aug 2025</th>\n",
       "    </tr>\n",
       "  </thead>\n",
       "  <tbody>\n",
       "    <tr>\n",
       "      <th>0</th>\n",
       "      <td>Haji Sajid</td>\n",
       "      <td>4000.0</td>\n",
       "      <td>2075.0</td>\n",
       "      <td>2075.0</td>\n",
       "    </tr>\n",
       "    <tr>\n",
       "      <th>1</th>\n",
       "      <td>Mas Asif</td>\n",
       "      <td>2200.0</td>\n",
       "      <td>1150.0</td>\n",
       "      <td>2090.0</td>\n",
       "    </tr>\n",
       "    <tr>\n",
       "      <th>2</th>\n",
       "      <td>Mas Shuban</td>\n",
       "      <td>5920.0</td>\n",
       "      <td>5730.0</td>\n",
       "      <td>1890.0</td>\n",
       "    </tr>\n",
       "    <tr>\n",
       "      <th>3</th>\n",
       "      <td>M Idrees</td>\n",
       "      <td>20930.0</td>\n",
       "      <td>23785.0</td>\n",
       "      <td>24995.0</td>\n",
       "    </tr>\n",
       "    <tr>\n",
       "      <th>4</th>\n",
       "      <td>Mas Haseeb</td>\n",
       "      <td>12595.0</td>\n",
       "      <td>3730.0</td>\n",
       "      <td>1335.0</td>\n",
       "    </tr>\n",
       "    <tr>\n",
       "      <th>5</th>\n",
       "      <td>Mazhar hussain</td>\n",
       "      <td>10830.0</td>\n",
       "      <td>17690.0</td>\n",
       "      <td>17400.0</td>\n",
       "    </tr>\n",
       "    <tr>\n",
       "      <th>6</th>\n",
       "      <td>Ali Akbar</td>\n",
       "      <td>4835.0</td>\n",
       "      <td>4235.0</td>\n",
       "      <td>3220.0</td>\n",
       "    </tr>\n",
       "    <tr>\n",
       "      <th>7</th>\n",
       "      <td>M Imran</td>\n",
       "      <td>3285.0</td>\n",
       "      <td>NaN</td>\n",
       "      <td>2565.0</td>\n",
       "    </tr>\n",
       "    <tr>\n",
       "      <th>8</th>\n",
       "      <td>Sajad Mehmood</td>\n",
       "      <td>7065.0</td>\n",
       "      <td>12875.0</td>\n",
       "      <td>15365.0</td>\n",
       "    </tr>\n",
       "    <tr>\n",
       "      <th>9</th>\n",
       "      <td>Zahoor hussain</td>\n",
       "      <td>13950.0</td>\n",
       "      <td>14840.0</td>\n",
       "      <td>7595.0</td>\n",
       "    </tr>\n",
       "    <tr>\n",
       "      <th>10</th>\n",
       "      <td>M Rizwan</td>\n",
       "      <td>11780.0</td>\n",
       "      <td>12010.0</td>\n",
       "      <td>13340.0</td>\n",
       "    </tr>\n",
       "    <tr>\n",
       "      <th>11</th>\n",
       "      <td>M Ikram</td>\n",
       "      <td>18795.0</td>\n",
       "      <td>24585.0</td>\n",
       "      <td>9000.0</td>\n",
       "    </tr>\n",
       "    <tr>\n",
       "      <th>12</th>\n",
       "      <td>Raja ismail</td>\n",
       "      <td>14380.0</td>\n",
       "      <td>16500.0</td>\n",
       "      <td>15700.0</td>\n",
       "    </tr>\n",
       "    <tr>\n",
       "      <th>13</th>\n",
       "      <td>Raja akhtar</td>\n",
       "      <td>3825.0</td>\n",
       "      <td>2645.0</td>\n",
       "      <td>2525.0</td>\n",
       "    </tr>\n",
       "    <tr>\n",
       "      <th>14</th>\n",
       "      <td>Quddous Kiani</td>\n",
       "      <td>21295.0</td>\n",
       "      <td>21295.0</td>\n",
       "      <td>15395.0</td>\n",
       "    </tr>\n",
       "    <tr>\n",
       "      <th>15</th>\n",
       "      <td>Azaad Kiani</td>\n",
       "      <td>14925.0</td>\n",
       "      <td>17740.0</td>\n",
       "      <td>14325.0</td>\n",
       "    </tr>\n",
       "    <tr>\n",
       "      <th>16</th>\n",
       "      <td>Raja Kaleem</td>\n",
       "      <td>22935.0</td>\n",
       "      <td>13665.0</td>\n",
       "      <td>13665.0</td>\n",
       "    </tr>\n",
       "    <tr>\n",
       "      <th>17</th>\n",
       "      <td>Raja masood</td>\n",
       "      <td>7705.0</td>\n",
       "      <td>7705.0</td>\n",
       "      <td>7705.0</td>\n",
       "    </tr>\n",
       "    <tr>\n",
       "      <th>18</th>\n",
       "      <td>Ushrat Kiani</td>\n",
       "      <td>16510.0</td>\n",
       "      <td>16510.0</td>\n",
       "      <td>16510.0</td>\n",
       "    </tr>\n",
       "    <tr>\n",
       "      <th>19</th>\n",
       "      <td>M Noshad</td>\n",
       "      <td>8025.0</td>\n",
       "      <td>NaN</td>\n",
       "      <td>NaN</td>\n",
       "    </tr>\n",
       "    <tr>\n",
       "      <th>20</th>\n",
       "      <td>M Arif</td>\n",
       "      <td>15055.0</td>\n",
       "      <td>14065.0</td>\n",
       "      <td>13080.0</td>\n",
       "    </tr>\n",
       "    <tr>\n",
       "      <th>21</th>\n",
       "      <td>M lateef</td>\n",
       "      <td>7780.0</td>\n",
       "      <td>6470.0</td>\n",
       "      <td>3105.0</td>\n",
       "    </tr>\n",
       "    <tr>\n",
       "      <th>22</th>\n",
       "      <td>Raja Wazeer</td>\n",
       "      <td>7820.0</td>\n",
       "      <td>6580.0</td>\n",
       "      <td>5780.0</td>\n",
       "    </tr>\n",
       "    <tr>\n",
       "      <th>23</th>\n",
       "      <td>Raja Safdar</td>\n",
       "      <td>26560.0</td>\n",
       "      <td>22600.0</td>\n",
       "      <td>25500.0</td>\n",
       "    </tr>\n",
       "    <tr>\n",
       "      <th>24</th>\n",
       "      <td>Sufi Naeem</td>\n",
       "      <td>5000.0</td>\n",
       "      <td>1595.0</td>\n",
       "      <td>NaN</td>\n",
       "    </tr>\n",
       "    <tr>\n",
       "      <th>25</th>\n",
       "      <td>M Mushtaq</td>\n",
       "      <td>6655.0</td>\n",
       "      <td>NaN</td>\n",
       "      <td>5150.0</td>\n",
       "    </tr>\n",
       "    <tr>\n",
       "      <th>26</th>\n",
       "      <td>Basheer Minhas</td>\n",
       "      <td>3125.0</td>\n",
       "      <td>3125.0</td>\n",
       "      <td>1705.0</td>\n",
       "    </tr>\n",
       "    <tr>\n",
       "      <th>27</th>\n",
       "      <td>Ameer Ahmad</td>\n",
       "      <td>805.0</td>\n",
       "      <td>805.0</td>\n",
       "      <td>3995.0</td>\n",
       "    </tr>\n",
       "    <tr>\n",
       "      <th>28</th>\n",
       "      <td>Talib hussain</td>\n",
       "      <td>7555.0</td>\n",
       "      <td>7510.0</td>\n",
       "      <td>6100.0</td>\n",
       "    </tr>\n",
       "    <tr>\n",
       "      <th>29</th>\n",
       "      <td>Dukhter Qurban</td>\n",
       "      <td>8680.0</td>\n",
       "      <td>8680.0</td>\n",
       "      <td>NaN</td>\n",
       "    </tr>\n",
       "    <tr>\n",
       "      <th>30</th>\n",
       "      <td>M Shahid Azaad</td>\n",
       "      <td>11600.0</td>\n",
       "      <td>13000.0</td>\n",
       "      <td>13000.0</td>\n",
       "    </tr>\n",
       "    <tr>\n",
       "      <th>31</th>\n",
       "      <td>M Ashraf</td>\n",
       "      <td>2755.0</td>\n",
       "      <td>2175.0</td>\n",
       "      <td>2425.0</td>\n",
       "    </tr>\n",
       "    <tr>\n",
       "      <th>32</th>\n",
       "      <td>Humaiyun</td>\n",
       "      <td>17240.0</td>\n",
       "      <td>18530.0</td>\n",
       "      <td>15620.0</td>\n",
       "    </tr>\n",
       "    <tr>\n",
       "      <th>33</th>\n",
       "      <td>M Talat</td>\n",
       "      <td>18400.0</td>\n",
       "      <td>13910.0</td>\n",
       "      <td>14430.0</td>\n",
       "    </tr>\n",
       "    <tr>\n",
       "      <th>34</th>\n",
       "      <td>Haji Sheraz</td>\n",
       "      <td>5395.0</td>\n",
       "      <td>NaN</td>\n",
       "      <td>NaN</td>\n",
       "    </tr>\n",
       "    <tr>\n",
       "      <th>35</th>\n",
       "      <td>M Nauman</td>\n",
       "      <td>11480.0</td>\n",
       "      <td>12230.0</td>\n",
       "      <td>8240.0</td>\n",
       "    </tr>\n",
       "    <tr>\n",
       "      <th>36</th>\n",
       "      <td>Mazhar hussain</td>\n",
       "      <td>11540.0</td>\n",
       "      <td>11540.0</td>\n",
       "      <td>11540.0</td>\n",
       "    </tr>\n",
       "    <tr>\n",
       "      <th>37</th>\n",
       "      <td>M Sajad</td>\n",
       "      <td>17525.0</td>\n",
       "      <td>15290.0</td>\n",
       "      <td>15290.0</td>\n",
       "    </tr>\n",
       "    <tr>\n",
       "      <th>38</th>\n",
       "      <td>Sakhawat Huss</td>\n",
       "      <td>41655.0</td>\n",
       "      <td>39835.0</td>\n",
       "      <td>30608.0</td>\n",
       "    </tr>\n",
       "    <tr>\n",
       "      <th>39</th>\n",
       "      <td>NaN</td>\n",
       "      <td>NaN</td>\n",
       "      <td>NaN</td>\n",
       "      <td>NaN</td>\n",
       "    </tr>\n",
       "    <tr>\n",
       "      <th>40</th>\n",
       "      <td>Total</td>\n",
       "      <td>452410.0</td>\n",
       "      <td>416705.0</td>\n",
       "      <td>362263.0</td>\n",
       "    </tr>\n",
       "  </tbody>\n",
       "</table>\n",
       "</div>"
      ],
      "text/plain": [
       "             Names  24 June 2025  23 July 2025  20 Aug 2025\n",
       "0       Haji Sajid        4000.0        2075.0       2075.0\n",
       "1         Mas Asif        2200.0        1150.0       2090.0\n",
       "2       Mas Shuban        5920.0        5730.0       1890.0\n",
       "3         M Idrees       20930.0       23785.0      24995.0\n",
       "4      Mas Haseeb        12595.0        3730.0       1335.0\n",
       "5   Mazhar hussain       10830.0       17690.0      17400.0\n",
       "6        Ali Akbar        4835.0        4235.0       3220.0\n",
       "7          M Imran        3285.0           NaN       2565.0\n",
       "8    Sajad Mehmood        7065.0       12875.0      15365.0\n",
       "9   Zahoor hussain       13950.0       14840.0       7595.0\n",
       "10        M Rizwan       11780.0       12010.0      13340.0\n",
       "11         M Ikram       18795.0       24585.0       9000.0\n",
       "12     Raja ismail       14380.0       16500.0      15700.0\n",
       "13     Raja akhtar        3825.0        2645.0       2525.0\n",
       "14   Quddous Kiani       21295.0       21295.0      15395.0\n",
       "15     Azaad Kiani       14925.0       17740.0      14325.0\n",
       "16     Raja Kaleem       22935.0       13665.0      13665.0\n",
       "17     Raja masood        7705.0        7705.0       7705.0\n",
       "18    Ushrat Kiani       16510.0       16510.0      16510.0\n",
       "19        M Noshad        8025.0           NaN          NaN\n",
       "20          M Arif       15055.0       14065.0      13080.0\n",
       "21        M lateef        7780.0        6470.0       3105.0\n",
       "22     Raja Wazeer        7820.0        6580.0       5780.0\n",
       "23     Raja Safdar       26560.0       22600.0      25500.0\n",
       "24      Sufi Naeem        5000.0        1595.0          NaN\n",
       "25       M Mushtaq        6655.0           NaN       5150.0\n",
       "26  Basheer Minhas        3125.0        3125.0       1705.0\n",
       "27     Ameer Ahmad         805.0         805.0       3995.0\n",
       "28   Talib hussain        7555.0        7510.0       6100.0\n",
       "29  Dukhter Qurban        8680.0        8680.0          NaN\n",
       "30  M Shahid Azaad       11600.0       13000.0      13000.0\n",
       "31        M Ashraf        2755.0        2175.0       2425.0\n",
       "32       Humaiyun        17240.0       18530.0      15620.0\n",
       "33         M Talat       18400.0       13910.0      14430.0\n",
       "34     Haji Sheraz        5395.0           NaN          NaN\n",
       "35        M Nauman       11480.0       12230.0       8240.0\n",
       "36  Mazhar hussain       11540.0       11540.0      11540.0\n",
       "37         M Sajad       17525.0       15290.0      15290.0\n",
       "38   Sakhawat Huss       41655.0       39835.0      30608.0\n",
       "39             NaN           NaN           NaN          NaN\n",
       "40           Total      452410.0      416705.0     362263.0"
      ]
     },
     "execution_count": 12,
     "metadata": {},
     "output_type": "execute_result"
    }
   ],
   "source": [
    "df.sort_index(ascending=False)\n",
    "df"
   ]
  }
 ],
 "metadata": {
  "kernelspec": {
   "display_name": "Python 3",
   "language": "python",
   "name": "python3"
  },
  "language_info": {
   "codemirror_mode": {
    "name": "ipython",
    "version": 3
   },
   "file_extension": ".py",
   "mimetype": "text/x-python",
   "name": "python",
   "nbconvert_exporter": "python",
   "pygments_lexer": "ipython3",
   "version": "3.13.5"
  }
 },
 "nbformat": 4,
 "nbformat_minor": 5
}
