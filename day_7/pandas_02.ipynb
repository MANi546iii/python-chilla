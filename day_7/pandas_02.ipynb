{
 "cells": [
  {
   "cell_type": "markdown",
   "id": "4dfb472f",
   "metadata": {},
   "source": [
    "# How to import dataset in python using library\n",
    "Written by : Abdul Rehman\\\n",
    "Date: 27.08.2025\\\n",
    "Email: oyeeemani47@gmail.com"
   ]
  },
  {
   "cell_type": "code",
   "execution_count": 3,
   "id": "75e5eb72",
   "metadata": {},
   "outputs": [],
   "source": [
    "import pandas as pd"
   ]
  },
  {
   "cell_type": "code",
   "execution_count": 5,
   "id": "1fc7b3da",
   "metadata": {},
   "outputs": [],
   "source": [
    "df = pd.read_excel(\"pandas_01_day6.xlsx\")\n"
   ]
  },
  {
   "cell_type": "code",
   "execution_count": 6,
   "id": "f36672a6",
   "metadata": {},
   "outputs": [
    {
     "name": "stdout",
     "output_type": "stream",
     "text": [
      "   height  weight favourite_Dish\n",
      "0     5.8     101  Chicken Pulao\n",
      "1     6.2      92        Biryani\n",
      "2     5.9      62  Karahi Ghosht\n",
      "3     5.9      95  Chicken Pulao\n",
      "4     5.9      55  Chicken Pulao\n",
      "..    ...     ...            ...\n",
      "82    5.4      55          Pasta\n",
      "83    5.9      75  Karahi Ghosht\n",
      "84    5.4      61        Biryani\n",
      "85    6.2      68  Chicken Pulao\n",
      "86    5.1      96        Biryani\n",
      "\n",
      "[87 rows x 3 columns]\n"
     ]
    }
   ],
   "source": [
    "print(df)"
   ]
  },
  {
   "cell_type": "markdown",
   "id": "10cd7353",
   "metadata": {},
   "source": [
    "# View data frame in python using pandas"
   ]
  },
  {
   "cell_type": "code",
   "execution_count": 7,
   "id": "f0b0f8e8",
   "metadata": {},
   "outputs": [
    {
     "data": {
      "text/plain": [
       "<bound method NDFrame.head of    height  weight favourite_Dish\n",
       "0     5.8     101  Chicken Pulao\n",
       "1     6.2      92        Biryani\n",
       "2     5.9      62  Karahi Ghosht\n",
       "3     5.9      95  Chicken Pulao\n",
       "4     5.9      55  Chicken Pulao\n",
       "..    ...     ...            ...\n",
       "82    5.4      55          Pasta\n",
       "83    5.9      75  Karahi Ghosht\n",
       "84    5.4      61        Biryani\n",
       "85    6.2      68  Chicken Pulao\n",
       "86    5.1      96        Biryani\n",
       "\n",
       "[87 rows x 3 columns]>"
      ]
     },
     "execution_count": 7,
     "metadata": {},
     "output_type": "execute_result"
    }
   ],
   "source": [
    "df.head"
   ]
  },
  {
   "cell_type": "code",
   "execution_count": 8,
   "id": "74536646",
   "metadata": {},
   "outputs": [
    {
     "data": {
      "text/plain": [
       "(87, 3)"
      ]
     },
     "execution_count": 8,
     "metadata": {},
     "output_type": "execute_result"
    }
   ],
   "source": [
    "df.shape"
   ]
  },
  {
   "cell_type": "code",
   "execution_count": 9,
   "id": "3ce4b698",
   "metadata": {},
   "outputs": [
    {
     "data": {
      "application/vnd.microsoft.datawrangler.viewer.v0+json": {
       "columns": [
        {
         "name": "index",
         "rawType": "int64",
         "type": "integer"
        },
        {
         "name": "height",
         "rawType": "object",
         "type": "unknown"
        },
        {
         "name": "weight",
         "rawType": "int64",
         "type": "integer"
        },
        {
         "name": "favourite_Dish",
         "rawType": "object",
         "type": "string"
        }
       ],
       "ref": "60ba6dcb-b08f-4493-8ca4-8871b9529754",
       "rows": [
        [
         "82",
         "5.4",
         "55",
         "Pasta"
        ],
        [
         "83",
         "5.9",
         "75",
         "Karahi Ghosht"
        ],
        [
         "84",
         "5.4",
         "61",
         "Biryani"
        ],
        [
         "85",
         "6.2",
         "68",
         "Chicken Pulao"
        ],
        [
         "86",
         "5.1",
         "96",
         "Biryani"
        ]
       ],
       "shape": {
        "columns": 3,
        "rows": 5
       }
      },
      "text/html": [
       "<div>\n",
       "<style scoped>\n",
       "    .dataframe tbody tr th:only-of-type {\n",
       "        vertical-align: middle;\n",
       "    }\n",
       "\n",
       "    .dataframe tbody tr th {\n",
       "        vertical-align: top;\n",
       "    }\n",
       "\n",
       "    .dataframe thead th {\n",
       "        text-align: right;\n",
       "    }\n",
       "</style>\n",
       "<table border=\"1\" class=\"dataframe\">\n",
       "  <thead>\n",
       "    <tr style=\"text-align: right;\">\n",
       "      <th></th>\n",
       "      <th>height</th>\n",
       "      <th>weight</th>\n",
       "      <th>favourite_Dish</th>\n",
       "    </tr>\n",
       "  </thead>\n",
       "  <tbody>\n",
       "    <tr>\n",
       "      <th>82</th>\n",
       "      <td>5.4</td>\n",
       "      <td>55</td>\n",
       "      <td>Pasta</td>\n",
       "    </tr>\n",
       "    <tr>\n",
       "      <th>83</th>\n",
       "      <td>5.9</td>\n",
       "      <td>75</td>\n",
       "      <td>Karahi Ghosht</td>\n",
       "    </tr>\n",
       "    <tr>\n",
       "      <th>84</th>\n",
       "      <td>5.4</td>\n",
       "      <td>61</td>\n",
       "      <td>Biryani</td>\n",
       "    </tr>\n",
       "    <tr>\n",
       "      <th>85</th>\n",
       "      <td>6.2</td>\n",
       "      <td>68</td>\n",
       "      <td>Chicken Pulao</td>\n",
       "    </tr>\n",
       "    <tr>\n",
       "      <th>86</th>\n",
       "      <td>5.1</td>\n",
       "      <td>96</td>\n",
       "      <td>Biryani</td>\n",
       "    </tr>\n",
       "  </tbody>\n",
       "</table>\n",
       "</div>"
      ],
      "text/plain": [
       "   height  weight favourite_Dish\n",
       "82    5.4      55          Pasta\n",
       "83    5.9      75  Karahi Ghosht\n",
       "84    5.4      61        Biryani\n",
       "85    6.2      68  Chicken Pulao\n",
       "86    5.1      96        Biryani"
      ]
     },
     "execution_count": 9,
     "metadata": {},
     "output_type": "execute_result"
    }
   ],
   "source": [
    "df.tail()"
   ]
  },
  {
   "cell_type": "code",
   "execution_count": 11,
   "id": "49559e2c",
   "metadata": {},
   "outputs": [
    {
     "name": "stdout",
     "output_type": "stream",
     "text": [
      "<class 'pandas.core.frame.DataFrame'>\n",
      "RangeIndex: 87 entries, 0 to 86\n",
      "Data columns (total 3 columns):\n",
      " #   Column          Non-Null Count  Dtype \n",
      "---  ------          --------------  ----- \n",
      " 0   height          87 non-null     object\n",
      " 1   weight          87 non-null     int64 \n",
      " 2   favourite_Dish  87 non-null     object\n",
      "dtypes: int64(1), object(2)\n",
      "memory usage: 2.2+ KB\n"
     ]
    }
   ],
   "source": [
    "df.info()"
   ]
  },
  {
   "cell_type": "code",
   "execution_count": 12,
   "id": "28defc5b",
   "metadata": {},
   "outputs": [
    {
     "data": {
      "text/plain": [
       "RangeIndex(start=0, stop=87, step=1)"
      ]
     },
     "execution_count": 12,
     "metadata": {},
     "output_type": "execute_result"
    }
   ],
   "source": [
    "df.index"
   ]
  },
  {
   "cell_type": "code",
   "execution_count": 14,
   "id": "b27305b0",
   "metadata": {},
   "outputs": [
    {
     "data": {
      "text/plain": [
       "Index(['height', 'weight', 'favourite_Dish'], dtype='object')"
      ]
     },
     "execution_count": 14,
     "metadata": {},
     "output_type": "execute_result"
    }
   ],
   "source": [
    "df.columns"
   ]
  },
  {
   "cell_type": "code",
   "execution_count": 16,
   "id": "a9755613",
   "metadata": {},
   "outputs": [
    {
     "data": {
      "application/vnd.microsoft.datawrangler.viewer.v0+json": {
       "columns": [
        {
         "name": "index",
         "rawType": "object",
         "type": "string"
        },
        {
         "name": "weight",
         "rawType": "float64",
         "type": "float"
        }
       ],
       "ref": "4aa38a0a-d804-4207-ac07-3a7a57a74e38",
       "rows": [
        [
         "count",
         "87.0"
        ],
        [
         "mean",
         "70.45977011494253"
        ],
        [
         "std",
         "16.753898954544773"
        ],
        [
         "min",
         "25.0"
        ],
        [
         "25%",
         "60.0"
        ],
        [
         "50%",
         "70.0"
        ],
        [
         "75%",
         "80.0"
        ],
        [
         "max",
         "125.0"
        ]
       ],
       "shape": {
        "columns": 1,
        "rows": 8
       }
      },
      "text/html": [
       "<div>\n",
       "<style scoped>\n",
       "    .dataframe tbody tr th:only-of-type {\n",
       "        vertical-align: middle;\n",
       "    }\n",
       "\n",
       "    .dataframe tbody tr th {\n",
       "        vertical-align: top;\n",
       "    }\n",
       "\n",
       "    .dataframe thead th {\n",
       "        text-align: right;\n",
       "    }\n",
       "</style>\n",
       "<table border=\"1\" class=\"dataframe\">\n",
       "  <thead>\n",
       "    <tr style=\"text-align: right;\">\n",
       "      <th></th>\n",
       "      <th>weight</th>\n",
       "    </tr>\n",
       "  </thead>\n",
       "  <tbody>\n",
       "    <tr>\n",
       "      <th>count</th>\n",
       "      <td>87.000000</td>\n",
       "    </tr>\n",
       "    <tr>\n",
       "      <th>mean</th>\n",
       "      <td>70.459770</td>\n",
       "    </tr>\n",
       "    <tr>\n",
       "      <th>std</th>\n",
       "      <td>16.753899</td>\n",
       "    </tr>\n",
       "    <tr>\n",
       "      <th>min</th>\n",
       "      <td>25.000000</td>\n",
       "    </tr>\n",
       "    <tr>\n",
       "      <th>25%</th>\n",
       "      <td>60.000000</td>\n",
       "    </tr>\n",
       "    <tr>\n",
       "      <th>50%</th>\n",
       "      <td>70.000000</td>\n",
       "    </tr>\n",
       "    <tr>\n",
       "      <th>75%</th>\n",
       "      <td>80.000000</td>\n",
       "    </tr>\n",
       "    <tr>\n",
       "      <th>max</th>\n",
       "      <td>125.000000</td>\n",
       "    </tr>\n",
       "  </tbody>\n",
       "</table>\n",
       "</div>"
      ],
      "text/plain": [
       "           weight\n",
       "count   87.000000\n",
       "mean    70.459770\n",
       "std     16.753899\n",
       "min     25.000000\n",
       "25%     60.000000\n",
       "50%     70.000000\n",
       "75%     80.000000\n",
       "max    125.000000"
      ]
     },
     "execution_count": 16,
     "metadata": {},
     "output_type": "execute_result"
    }
   ],
   "source": [
    "df.describe()"
   ]
  },
  {
   "cell_type": "code",
   "execution_count": null,
   "id": "5277ed65",
   "metadata": {},
   "outputs": [
    {
     "data": {
      "application/vnd.microsoft.datawrangler.viewer.v0+json": {
       "columns": [
        {
         "name": "index",
         "rawType": "object",
         "type": "string"
        },
        {
         "name": "0",
         "rawType": "object",
         "type": "unknown"
        },
        {
         "name": "1",
         "rawType": "object",
         "type": "unknown"
        },
        {
         "name": "2",
         "rawType": "object",
         "type": "unknown"
        },
        {
         "name": "3",
         "rawType": "object",
         "type": "unknown"
        },
        {
         "name": "4",
         "rawType": "object",
         "type": "unknown"
        },
        {
         "name": "5",
         "rawType": "object",
         "type": "unknown"
        },
        {
         "name": "6",
         "rawType": "object",
         "type": "unknown"
        },
        {
         "name": "7",
         "rawType": "object",
         "type": "unknown"
        },
        {
         "name": "8",
         "rawType": "object",
         "type": "unknown"
        },
        {
         "name": "9",
         "rawType": "object",
         "type": "unknown"
        },
        {
         "name": "10",
         "rawType": "object",
         "type": "unknown"
        },
        {
         "name": "11",
         "rawType": "object",
         "type": "unknown"
        },
        {
         "name": "12",
         "rawType": "object",
         "type": "unknown"
        },
        {
         "name": "13",
         "rawType": "object",
         "type": "unknown"
        },
        {
         "name": "14",
         "rawType": "object",
         "type": "unknown"
        },
        {
         "name": "15",
         "rawType": "object",
         "type": "unknown"
        },
        {
         "name": "16",
         "rawType": "object",
         "type": "unknown"
        },
        {
         "name": "17",
         "rawType": "object",
         "type": "unknown"
        },
        {
         "name": "18",
         "rawType": "object",
         "type": "unknown"
        },
        {
         "name": "19",
         "rawType": "object",
         "type": "unknown"
        },
        {
         "name": "20",
         "rawType": "object",
         "type": "unknown"
        },
        {
         "name": "21",
         "rawType": "object",
         "type": "unknown"
        },
        {
         "name": "22",
         "rawType": "object",
         "type": "unknown"
        },
        {
         "name": "23",
         "rawType": "object",
         "type": "unknown"
        },
        {
         "name": "24",
         "rawType": "object",
         "type": "unknown"
        },
        {
         "name": "25",
         "rawType": "object",
         "type": "unknown"
        },
        {
         "name": "26",
         "rawType": "object",
         "type": "unknown"
        },
        {
         "name": "27",
         "rawType": "object",
         "type": "unknown"
        },
        {
         "name": "28",
         "rawType": "object",
         "type": "unknown"
        },
        {
         "name": "29",
         "rawType": "object",
         "type": "unknown"
        },
        {
         "name": "30",
         "rawType": "object",
         "type": "unknown"
        },
        {
         "name": "31",
         "rawType": "object",
         "type": "unknown"
        },
        {
         "name": "32",
         "rawType": "object",
         "type": "unknown"
        },
        {
         "name": "33",
         "rawType": "object",
         "type": "unknown"
        },
        {
         "name": "34",
         "rawType": "object",
         "type": "unknown"
        },
        {
         "name": "35",
         "rawType": "object",
         "type": "unknown"
        },
        {
         "name": "36",
         "rawType": "object",
         "type": "unknown"
        },
        {
         "name": "37",
         "rawType": "object",
         "type": "unknown"
        },
        {
         "name": "38",
         "rawType": "object",
         "type": "unknown"
        },
        {
         "name": "39",
         "rawType": "object",
         "type": "unknown"
        },
        {
         "name": "40",
         "rawType": "object",
         "type": "unknown"
        },
        {
         "name": "41",
         "rawType": "object",
         "type": "unknown"
        },
        {
         "name": "42",
         "rawType": "object",
         "type": "unknown"
        },
        {
         "name": "43",
         "rawType": "object",
         "type": "unknown"
        },
        {
         "name": "44",
         "rawType": "object",
         "type": "unknown"
        },
        {
         "name": "45",
         "rawType": "object",
         "type": "unknown"
        },
        {
         "name": "46",
         "rawType": "object",
         "type": "unknown"
        },
        {
         "name": "47",
         "rawType": "object",
         "type": "unknown"
        },
        {
         "name": "48",
         "rawType": "object",
         "type": "unknown"
        },
        {
         "name": "49",
         "rawType": "object",
         "type": "unknown"
        },
        {
         "name": "50",
         "rawType": "object",
         "type": "unknown"
        },
        {
         "name": "51",
         "rawType": "object",
         "type": "unknown"
        },
        {
         "name": "52",
         "rawType": "object",
         "type": "unknown"
        },
        {
         "name": "53",
         "rawType": "object",
         "type": "unknown"
        },
        {
         "name": "54",
         "rawType": "object",
         "type": "unknown"
        },
        {
         "name": "55",
         "rawType": "object",
         "type": "unknown"
        },
        {
         "name": "56",
         "rawType": "object",
         "type": "unknown"
        },
        {
         "name": "57",
         "rawType": "object",
         "type": "unknown"
        },
        {
         "name": "58",
         "rawType": "object",
         "type": "unknown"
        },
        {
         "name": "59",
         "rawType": "object",
         "type": "unknown"
        },
        {
         "name": "60",
         "rawType": "object",
         "type": "unknown"
        },
        {
         "name": "61",
         "rawType": "object",
         "type": "unknown"
        },
        {
         "name": "62",
         "rawType": "object",
         "type": "unknown"
        },
        {
         "name": "63",
         "rawType": "object",
         "type": "unknown"
        },
        {
         "name": "64",
         "rawType": "object",
         "type": "unknown"
        },
        {
         "name": "65",
         "rawType": "object",
         "type": "unknown"
        },
        {
         "name": "66",
         "rawType": "object",
         "type": "unknown"
        },
        {
         "name": "67",
         "rawType": "object",
         "type": "unknown"
        },
        {
         "name": "68",
         "rawType": "object",
         "type": "unknown"
        },
        {
         "name": "69",
         "rawType": "object",
         "type": "unknown"
        },
        {
         "name": "70",
         "rawType": "object",
         "type": "unknown"
        },
        {
         "name": "71",
         "rawType": "object",
         "type": "unknown"
        },
        {
         "name": "72",
         "rawType": "object",
         "type": "unknown"
        },
        {
         "name": "73",
         "rawType": "object",
         "type": "unknown"
        },
        {
         "name": "74",
         "rawType": "object",
         "type": "unknown"
        },
        {
         "name": "75",
         "rawType": "object",
         "type": "unknown"
        },
        {
         "name": "76",
         "rawType": "object",
         "type": "unknown"
        },
        {
         "name": "77",
         "rawType": "object",
         "type": "unknown"
        },
        {
         "name": "78",
         "rawType": "object",
         "type": "unknown"
        },
        {
         "name": "79",
         "rawType": "object",
         "type": "unknown"
        },
        {
         "name": "80",
         "rawType": "object",
         "type": "unknown"
        },
        {
         "name": "81",
         "rawType": "object",
         "type": "unknown"
        },
        {
         "name": "82",
         "rawType": "object",
         "type": "unknown"
        },
        {
         "name": "83",
         "rawType": "object",
         "type": "unknown"
        },
        {
         "name": "84",
         "rawType": "object",
         "type": "unknown"
        },
        {
         "name": "85",
         "rawType": "object",
         "type": "unknown"
        },
        {
         "name": "86",
         "rawType": "object",
         "type": "unknown"
        }
       ],
       "ref": "2c6eb95c-61ea-434c-ae8f-aa0e0dbbacd2",
       "rows": [
        [
         "height",
         "5.8",
         "6.2",
         "5.9",
         "5.9",
         "5.9",
         "5.3",
         "5.6",
         "5.9",
         "5.1",
         "5.4",
         "5.11",
         "5.7",
         "6.1",
         "5.7",
         "5.8",
         "5",
         "5.7",
         "5.9",
         "5.8",
         "5.5",
         "6",
         "5.6",
         "5.8",
         "5.7",
         "5.3",
         "6",
         "5",
         "5.11",
         "5.8",
         "5.4",
         "5.1",
         "5.9",
         "5.9",
         "5.1",
         "6",
         "5",
         "5.7",
         "5.6",
         "5.1",
         "5. 11",
         "5",
         "5.6 ",
         "5.6",
         "59",
         "5.2",
         "167",
         "5.8",
         "5.9",
         "5.6",
         "5.4",
         "56",
         "5 . 9 in",
         "5.7",
         "5.2",
         "5.8",
         "5.8",
         "5. 3inch",
         "5.1",
         "5 .9 inch",
         "5.2",
         "6",
         "5.5",
         "5.11",
         "5.2",
         "54",
         "17.8",
         "5.53",
         "5.8 ",
         "5.5",
         "5.1",
         "5. 3",
         "5.4",
         "5.8",
         "5.11",
         "5.6",
         "6",
         "5.7",
         "5.5",
         "5.11",
         "5.3",
         "5.4",
         "5.5",
         "5.4",
         "5.9",
         "5.4",
         "6.2",
         "5.1"
        ],
        [
         "weight",
         "101",
         "92",
         "62",
         "95",
         "55",
         "59",
         "50",
         "76",
         "78",
         "68",
         "92",
         "73",
         "78",
         "80",
         "95",
         "57",
         "68",
         "91",
         "71",
         "64",
         "85",
         "72",
         "74",
         "78",
         "75",
         "50",
         "25",
         "76",
         "65",
         "63",
         "62",
         "85",
         "75",
         "103",
         "110",
         "31",
         "80",
         "52",
         "61",
         "55",
         "50",
         "86",
         "49",
         "64",
         "48",
         "60",
         "88",
         "82",
         "72",
         "60",
         "72",
         "68",
         "65",
         "61",
         "52",
         "60",
         "75",
         "85",
         "55",
         "51",
         "88",
         "80",
         "95",
         "52",
         "90",
         "70",
         "62",
         "72",
         "52",
         "70",
         "65",
         "55",
         "73",
         "78",
         "62",
         "125",
         "75",
         "85",
         "72",
         "62",
         "55",
         "52",
         "55",
         "75",
         "61",
         "68",
         "96"
        ],
        [
         "favourite_Dish",
         "Chicken Pulao",
         "Biryani",
         "Karahi Ghosht",
         "Chicken Pulao",
         "Chicken Pulao",
         "Biryani",
         "Pasta",
         "Biryani",
         "Biryani",
         "Biryani",
         "Karahi Ghosht",
         "Biryani",
         "Biryani",
         "Karahi Ghosht",
         "Karahi Ghosht",
         "Biryani",
         "Karahi Ghosht",
         "Biryani",
         "Karahi Ghosht",
         "Biryani",
         "Biryani",
         "Biryani",
         "Chicken Pulao",
         "Biryani",
         "Chicken Pulao",
         "Biryani",
         "Biryani",
         "Chicken Pulao",
         "Biryani",
         "Biryani",
         "Karahi Ghosht",
         "Chicken Pulao",
         "Chicken Pulao",
         "Chapel Kaba",
         "Chapel Kaba",
         "Biryani",
         "Karahi Ghosht",
         "Chicken Pulao",
         "Chapel Kaba",
         "Chicken Pulao",
         "Chicken Pulao",
         "Chicken Pulao",
         "Chicken Pulao",
         "Biryani",
         "Biryani",
         "Chapel Kaba",
         "Biryani",
         "Karahi Ghosht",
         "Chapel Kaba",
         "Biryani",
         "Biryani",
         "Biryani",
         "Biryani",
         "Pasta",
         "Pasta",
         "Karahi Ghosht",
         "Pasta",
         "Biryani",
         "Biryani",
         "Chapel Kaba",
         "Biryani",
         "Chicken Pulao",
         "Pasta",
         "Pasta",
         "Biryani",
         "Biryani",
         "Biryani",
         "Biryani",
         "Karahi Ghosht",
         "Biryani",
         "Chapel Kaba",
         "Pasta",
         "Biryani",
         "Biryani",
         "Karahi Ghosht",
         "Chapel Kaba",
         "Biryani",
         "Biryani",
         "Karahi Ghosht",
         "Biryani",
         "Pasta",
         "Karahi Ghosht",
         "Pasta",
         "Karahi Ghosht",
         "Biryani",
         "Chicken Pulao",
         "Biryani"
        ]
       ],
       "shape": {
        "columns": 87,
        "rows": 3
       }
      },
      "text/html": [
       "<div>\n",
       "<style scoped>\n",
       "    .dataframe tbody tr th:only-of-type {\n",
       "        vertical-align: middle;\n",
       "    }\n",
       "\n",
       "    .dataframe tbody tr th {\n",
       "        vertical-align: top;\n",
       "    }\n",
       "\n",
       "    .dataframe thead th {\n",
       "        text-align: right;\n",
       "    }\n",
       "</style>\n",
       "<table border=\"1\" class=\"dataframe\">\n",
       "  <thead>\n",
       "    <tr style=\"text-align: right;\">\n",
       "      <th></th>\n",
       "      <th>0</th>\n",
       "      <th>1</th>\n",
       "      <th>2</th>\n",
       "      <th>3</th>\n",
       "      <th>4</th>\n",
       "      <th>5</th>\n",
       "      <th>6</th>\n",
       "      <th>7</th>\n",
       "      <th>8</th>\n",
       "      <th>9</th>\n",
       "      <th>...</th>\n",
       "      <th>77</th>\n",
       "      <th>78</th>\n",
       "      <th>79</th>\n",
       "      <th>80</th>\n",
       "      <th>81</th>\n",
       "      <th>82</th>\n",
       "      <th>83</th>\n",
       "      <th>84</th>\n",
       "      <th>85</th>\n",
       "      <th>86</th>\n",
       "    </tr>\n",
       "  </thead>\n",
       "  <tbody>\n",
       "    <tr>\n",
       "      <th>height</th>\n",
       "      <td>5.8</td>\n",
       "      <td>6.2</td>\n",
       "      <td>5.9</td>\n",
       "      <td>5.9</td>\n",
       "      <td>5.9</td>\n",
       "      <td>5.3</td>\n",
       "      <td>5.6</td>\n",
       "      <td>5.9</td>\n",
       "      <td>5.1</td>\n",
       "      <td>5.4</td>\n",
       "      <td>...</td>\n",
       "      <td>5.5</td>\n",
       "      <td>5.11</td>\n",
       "      <td>5.3</td>\n",
       "      <td>5.4</td>\n",
       "      <td>5.5</td>\n",
       "      <td>5.4</td>\n",
       "      <td>5.9</td>\n",
       "      <td>5.4</td>\n",
       "      <td>6.2</td>\n",
       "      <td>5.1</td>\n",
       "    </tr>\n",
       "    <tr>\n",
       "      <th>weight</th>\n",
       "      <td>101</td>\n",
       "      <td>92</td>\n",
       "      <td>62</td>\n",
       "      <td>95</td>\n",
       "      <td>55</td>\n",
       "      <td>59</td>\n",
       "      <td>50</td>\n",
       "      <td>76</td>\n",
       "      <td>78</td>\n",
       "      <td>68</td>\n",
       "      <td>...</td>\n",
       "      <td>85</td>\n",
       "      <td>72</td>\n",
       "      <td>62</td>\n",
       "      <td>55</td>\n",
       "      <td>52</td>\n",
       "      <td>55</td>\n",
       "      <td>75</td>\n",
       "      <td>61</td>\n",
       "      <td>68</td>\n",
       "      <td>96</td>\n",
       "    </tr>\n",
       "    <tr>\n",
       "      <th>favourite_Dish</th>\n",
       "      <td>Chicken Pulao</td>\n",
       "      <td>Biryani</td>\n",
       "      <td>Karahi Ghosht</td>\n",
       "      <td>Chicken Pulao</td>\n",
       "      <td>Chicken Pulao</td>\n",
       "      <td>Biryani</td>\n",
       "      <td>Pasta</td>\n",
       "      <td>Biryani</td>\n",
       "      <td>Biryani</td>\n",
       "      <td>Biryani</td>\n",
       "      <td>...</td>\n",
       "      <td>Biryani</td>\n",
       "      <td>Karahi Ghosht</td>\n",
       "      <td>Biryani</td>\n",
       "      <td>Pasta</td>\n",
       "      <td>Karahi Ghosht</td>\n",
       "      <td>Pasta</td>\n",
       "      <td>Karahi Ghosht</td>\n",
       "      <td>Biryani</td>\n",
       "      <td>Chicken Pulao</td>\n",
       "      <td>Biryani</td>\n",
       "    </tr>\n",
       "  </tbody>\n",
       "</table>\n",
       "<p>3 rows × 87 columns</p>\n",
       "</div>"
      ],
      "text/plain": [
       "                           0        1              2              3   \\\n",
       "height                    5.8      6.2            5.9            5.9   \n",
       "weight                    101       92             62             95   \n",
       "favourite_Dish  Chicken Pulao  Biryani  Karahi Ghosht  Chicken Pulao   \n",
       "\n",
       "                           4        5      6        7        8        9   ...  \\\n",
       "height                    5.9      5.3    5.6      5.9      5.1      5.4  ...   \n",
       "weight                     55       59     50       76       78       68  ...   \n",
       "favourite_Dish  Chicken Pulao  Biryani  Pasta  Biryani  Biryani  Biryani  ...   \n",
       "\n",
       "                     77             78       79     80             81     82  \\\n",
       "height              5.5           5.11      5.3    5.4            5.5    5.4   \n",
       "weight               85             72       62     55             52     55   \n",
       "favourite_Dish  Biryani  Karahi Ghosht  Biryani  Pasta  Karahi Ghosht  Pasta   \n",
       "\n",
       "                           83       84             85       86  \n",
       "height                    5.9      5.4            6.2      5.1  \n",
       "weight                     75       61             68       96  \n",
       "favourite_Dish  Karahi Ghosht  Biryani  Chicken Pulao  Biryani  \n",
       "\n",
       "[3 rows x 87 columns]"
      ]
     },
     "execution_count": 17,
     "metadata": {},
     "output_type": "execute_result"
    }
   ],
   "source": [
    "df.T     #Transpose"
   ]
  },
  {
   "cell_type": "code",
   "execution_count": 18,
   "id": "429fc34a",
   "metadata": {},
   "outputs": [
    {
     "data": {
      "application/vnd.microsoft.datawrangler.viewer.v0+json": {
       "columns": [
        {
         "name": "index",
         "rawType": "int64",
         "type": "integer"
        },
        {
         "name": "height",
         "rawType": "object",
         "type": "unknown"
        },
        {
         "name": "weight",
         "rawType": "int64",
         "type": "integer"
        },
        {
         "name": "favourite_Dish",
         "rawType": "object",
         "type": "string"
        }
       ],
       "ref": "7fba65b5-d515-4058-8474-5402d425c579",
       "rows": [
        [
         "86",
         "5.1",
         "96",
         "Biryani"
        ],
        [
         "85",
         "6.2",
         "68",
         "Chicken Pulao"
        ],
        [
         "84",
         "5.4",
         "61",
         "Biryani"
        ],
        [
         "83",
         "5.9",
         "75",
         "Karahi Ghosht"
        ],
        [
         "82",
         "5.4",
         "55",
         "Pasta"
        ],
        [
         "81",
         "5.5",
         "52",
         "Karahi Ghosht"
        ],
        [
         "80",
         "5.4",
         "55",
         "Pasta"
        ],
        [
         "79",
         "5.3",
         "62",
         "Biryani"
        ],
        [
         "78",
         "5.11",
         "72",
         "Karahi Ghosht"
        ],
        [
         "77",
         "5.5",
         "85",
         "Biryani"
        ],
        [
         "76",
         "5.7",
         "75",
         "Biryani"
        ],
        [
         "75",
         "6",
         "125",
         "Chapel Kaba"
        ],
        [
         "74",
         "5.6",
         "62",
         "Karahi Ghosht"
        ],
        [
         "73",
         "5.11",
         "78",
         "Biryani"
        ],
        [
         "72",
         "5.8",
         "73",
         "Biryani"
        ],
        [
         "71",
         "5.4",
         "55",
         "Pasta"
        ],
        [
         "70",
         "5. 3",
         "65",
         "Chapel Kaba"
        ],
        [
         "69",
         "5.1",
         "70",
         "Biryani"
        ],
        [
         "68",
         "5.5",
         "52",
         "Karahi Ghosht"
        ],
        [
         "67",
         "5.8 ",
         "72",
         "Biryani"
        ],
        [
         "66",
         "5.53",
         "62",
         "Biryani"
        ],
        [
         "65",
         "17.8",
         "70",
         "Biryani"
        ],
        [
         "64",
         "54",
         "90",
         "Biryani"
        ],
        [
         "63",
         "5.2",
         "52",
         "Pasta"
        ],
        [
         "62",
         "5.11",
         "95",
         "Pasta"
        ],
        [
         "61",
         "5.5",
         "80",
         "Chicken Pulao"
        ],
        [
         "60",
         "6",
         "88",
         "Biryani"
        ],
        [
         "59",
         "5.2",
         "51",
         "Chapel Kaba"
        ],
        [
         "58",
         "5 .9 inch",
         "55",
         "Biryani"
        ],
        [
         "57",
         "5.1",
         "85",
         "Biryani"
        ],
        [
         "56",
         "5. 3inch",
         "75",
         "Pasta"
        ],
        [
         "55",
         "5.8",
         "60",
         "Karahi Ghosht"
        ],
        [
         "54",
         "5.8",
         "52",
         "Pasta"
        ],
        [
         "53",
         "5.2",
         "61",
         "Pasta"
        ],
        [
         "52",
         "5.7",
         "65",
         "Biryani"
        ],
        [
         "51",
         "5 . 9 in",
         "68",
         "Biryani"
        ],
        [
         "50",
         "56",
         "72",
         "Biryani"
        ],
        [
         "49",
         "5.4",
         "60",
         "Biryani"
        ],
        [
         "48",
         "5.6",
         "72",
         "Chapel Kaba"
        ],
        [
         "47",
         "5.9",
         "82",
         "Karahi Ghosht"
        ],
        [
         "46",
         "5.8",
         "88",
         "Biryani"
        ],
        [
         "45",
         "167",
         "60",
         "Chapel Kaba"
        ],
        [
         "44",
         "5.2",
         "48",
         "Biryani"
        ],
        [
         "43",
         "59",
         "64",
         "Biryani"
        ],
        [
         "42",
         "5.6",
         "49",
         "Chicken Pulao"
        ],
        [
         "41",
         "5.6 ",
         "86",
         "Chicken Pulao"
        ],
        [
         "40",
         "5",
         "50",
         "Chicken Pulao"
        ],
        [
         "39",
         "5. 11",
         "55",
         "Chicken Pulao"
        ],
        [
         "38",
         "5.1",
         "61",
         "Chapel Kaba"
        ],
        [
         "37",
         "5.6",
         "52",
         "Chicken Pulao"
        ]
       ],
       "shape": {
        "columns": 3,
        "rows": 87
       }
      },
      "text/html": [
       "<div>\n",
       "<style scoped>\n",
       "    .dataframe tbody tr th:only-of-type {\n",
       "        vertical-align: middle;\n",
       "    }\n",
       "\n",
       "    .dataframe tbody tr th {\n",
       "        vertical-align: top;\n",
       "    }\n",
       "\n",
       "    .dataframe thead th {\n",
       "        text-align: right;\n",
       "    }\n",
       "</style>\n",
       "<table border=\"1\" class=\"dataframe\">\n",
       "  <thead>\n",
       "    <tr style=\"text-align: right;\">\n",
       "      <th></th>\n",
       "      <th>height</th>\n",
       "      <th>weight</th>\n",
       "      <th>favourite_Dish</th>\n",
       "    </tr>\n",
       "  </thead>\n",
       "  <tbody>\n",
       "    <tr>\n",
       "      <th>86</th>\n",
       "      <td>5.1</td>\n",
       "      <td>96</td>\n",
       "      <td>Biryani</td>\n",
       "    </tr>\n",
       "    <tr>\n",
       "      <th>85</th>\n",
       "      <td>6.2</td>\n",
       "      <td>68</td>\n",
       "      <td>Chicken Pulao</td>\n",
       "    </tr>\n",
       "    <tr>\n",
       "      <th>84</th>\n",
       "      <td>5.4</td>\n",
       "      <td>61</td>\n",
       "      <td>Biryani</td>\n",
       "    </tr>\n",
       "    <tr>\n",
       "      <th>83</th>\n",
       "      <td>5.9</td>\n",
       "      <td>75</td>\n",
       "      <td>Karahi Ghosht</td>\n",
       "    </tr>\n",
       "    <tr>\n",
       "      <th>82</th>\n",
       "      <td>5.4</td>\n",
       "      <td>55</td>\n",
       "      <td>Pasta</td>\n",
       "    </tr>\n",
       "    <tr>\n",
       "      <th>...</th>\n",
       "      <td>...</td>\n",
       "      <td>...</td>\n",
       "      <td>...</td>\n",
       "    </tr>\n",
       "    <tr>\n",
       "      <th>4</th>\n",
       "      <td>5.9</td>\n",
       "      <td>55</td>\n",
       "      <td>Chicken Pulao</td>\n",
       "    </tr>\n",
       "    <tr>\n",
       "      <th>3</th>\n",
       "      <td>5.9</td>\n",
       "      <td>95</td>\n",
       "      <td>Chicken Pulao</td>\n",
       "    </tr>\n",
       "    <tr>\n",
       "      <th>2</th>\n",
       "      <td>5.9</td>\n",
       "      <td>62</td>\n",
       "      <td>Karahi Ghosht</td>\n",
       "    </tr>\n",
       "    <tr>\n",
       "      <th>1</th>\n",
       "      <td>6.2</td>\n",
       "      <td>92</td>\n",
       "      <td>Biryani</td>\n",
       "    </tr>\n",
       "    <tr>\n",
       "      <th>0</th>\n",
       "      <td>5.8</td>\n",
       "      <td>101</td>\n",
       "      <td>Chicken Pulao</td>\n",
       "    </tr>\n",
       "  </tbody>\n",
       "</table>\n",
       "<p>87 rows × 3 columns</p>\n",
       "</div>"
      ],
      "text/plain": [
       "   height  weight favourite_Dish\n",
       "86    5.1      96        Biryani\n",
       "85    6.2      68  Chicken Pulao\n",
       "84    5.4      61        Biryani\n",
       "83    5.9      75  Karahi Ghosht\n",
       "82    5.4      55          Pasta\n",
       "..    ...     ...            ...\n",
       "4     5.9      55  Chicken Pulao\n",
       "3     5.9      95  Chicken Pulao\n",
       "2     5.9      62  Karahi Ghosht\n",
       "1     6.2      92        Biryani\n",
       "0     5.8     101  Chicken Pulao\n",
       "\n",
       "[87 rows x 3 columns]"
      ]
     },
     "execution_count": 18,
     "metadata": {},
     "output_type": "execute_result"
    }
   ],
   "source": [
    "df.sort_index(ascending=False)"
   ]
  },
  {
   "cell_type": "code",
   "execution_count": 19,
   "id": "95f95f66",
   "metadata": {},
   "outputs": [
    {
     "data": {
      "application/vnd.microsoft.datawrangler.viewer.v0+json": {
       "columns": [
        {
         "name": "index",
         "rawType": "int64",
         "type": "integer"
        },
        {
         "name": "height",
         "rawType": "object",
         "type": "unknown"
        },
        {
         "name": "weight",
         "rawType": "int64",
         "type": "integer"
        },
        {
         "name": "favourite_Dish",
         "rawType": "object",
         "type": "string"
        }
       ],
       "ref": "aa4e30b0-3379-48de-a4ef-811e324ad26d",
       "rows": [
        [
         "26",
         "5",
         "25",
         "Biryani"
        ],
        [
         "35",
         "5",
         "31",
         "Biryani"
        ],
        [
         "44",
         "5.2",
         "48",
         "Biryani"
        ],
        [
         "42",
         "5.6",
         "49",
         "Chicken Pulao"
        ],
        [
         "40",
         "5",
         "50",
         "Chicken Pulao"
        ],
        [
         "6",
         "5.6",
         "50",
         "Pasta"
        ],
        [
         "25",
         "6",
         "50",
         "Biryani"
        ],
        [
         "59",
         "5.2",
         "51",
         "Chapel Kaba"
        ],
        [
         "68",
         "5.5",
         "52",
         "Karahi Ghosht"
        ],
        [
         "63",
         "5.2",
         "52",
         "Pasta"
        ],
        [
         "54",
         "5.8",
         "52",
         "Pasta"
        ],
        [
         "37",
         "5.6",
         "52",
         "Chicken Pulao"
        ],
        [
         "81",
         "5.5",
         "52",
         "Karahi Ghosht"
        ],
        [
         "71",
         "5.4",
         "55",
         "Pasta"
        ],
        [
         "58",
         "5 .9 inch",
         "55",
         "Biryani"
        ],
        [
         "4",
         "5.9",
         "55",
         "Chicken Pulao"
        ],
        [
         "82",
         "5.4",
         "55",
         "Pasta"
        ],
        [
         "39",
         "5. 11",
         "55",
         "Chicken Pulao"
        ],
        [
         "80",
         "5.4",
         "55",
         "Pasta"
        ],
        [
         "15",
         "5",
         "57",
         "Biryani"
        ],
        [
         "5",
         "5.3",
         "59",
         "Biryani"
        ],
        [
         "55",
         "5.8",
         "60",
         "Karahi Ghosht"
        ],
        [
         "49",
         "5.4",
         "60",
         "Biryani"
        ],
        [
         "45",
         "167",
         "60",
         "Chapel Kaba"
        ],
        [
         "84",
         "5.4",
         "61",
         "Biryani"
        ],
        [
         "38",
         "5.1",
         "61",
         "Chapel Kaba"
        ],
        [
         "53",
         "5.2",
         "61",
         "Pasta"
        ],
        [
         "66",
         "5.53",
         "62",
         "Biryani"
        ],
        [
         "74",
         "5.6",
         "62",
         "Karahi Ghosht"
        ],
        [
         "30",
         "5.1",
         "62",
         "Karahi Ghosht"
        ],
        [
         "2",
         "5.9",
         "62",
         "Karahi Ghosht"
        ],
        [
         "79",
         "5.3",
         "62",
         "Biryani"
        ],
        [
         "29",
         "5.4",
         "63",
         "Biryani"
        ],
        [
         "43",
         "59",
         "64",
         "Biryani"
        ],
        [
         "19",
         "5.5",
         "64",
         "Biryani"
        ],
        [
         "70",
         "5. 3",
         "65",
         "Chapel Kaba"
        ],
        [
         "52",
         "5.7",
         "65",
         "Biryani"
        ],
        [
         "28",
         "5.8",
         "65",
         "Biryani"
        ],
        [
         "16",
         "5.7",
         "68",
         "Karahi Ghosht"
        ],
        [
         "85",
         "6.2",
         "68",
         "Chicken Pulao"
        ],
        [
         "9",
         "5.4",
         "68",
         "Biryani"
        ],
        [
         "51",
         "5 . 9 in",
         "68",
         "Biryani"
        ],
        [
         "65",
         "17.8",
         "70",
         "Biryani"
        ],
        [
         "69",
         "5.1",
         "70",
         "Biryani"
        ],
        [
         "18",
         "5.8",
         "71",
         "Karahi Ghosht"
        ],
        [
         "67",
         "5.8 ",
         "72",
         "Biryani"
        ],
        [
         "78",
         "5.11",
         "72",
         "Karahi Ghosht"
        ],
        [
         "48",
         "5.6",
         "72",
         "Chapel Kaba"
        ],
        [
         "50",
         "56",
         "72",
         "Biryani"
        ],
        [
         "21",
         "5.6",
         "72",
         "Biryani"
        ]
       ],
       "shape": {
        "columns": 3,
        "rows": 87
       }
      },
      "text/html": [
       "<div>\n",
       "<style scoped>\n",
       "    .dataframe tbody tr th:only-of-type {\n",
       "        vertical-align: middle;\n",
       "    }\n",
       "\n",
       "    .dataframe tbody tr th {\n",
       "        vertical-align: top;\n",
       "    }\n",
       "\n",
       "    .dataframe thead th {\n",
       "        text-align: right;\n",
       "    }\n",
       "</style>\n",
       "<table border=\"1\" class=\"dataframe\">\n",
       "  <thead>\n",
       "    <tr style=\"text-align: right;\">\n",
       "      <th></th>\n",
       "      <th>height</th>\n",
       "      <th>weight</th>\n",
       "      <th>favourite_Dish</th>\n",
       "    </tr>\n",
       "  </thead>\n",
       "  <tbody>\n",
       "    <tr>\n",
       "      <th>26</th>\n",
       "      <td>5</td>\n",
       "      <td>25</td>\n",
       "      <td>Biryani</td>\n",
       "    </tr>\n",
       "    <tr>\n",
       "      <th>35</th>\n",
       "      <td>5</td>\n",
       "      <td>31</td>\n",
       "      <td>Biryani</td>\n",
       "    </tr>\n",
       "    <tr>\n",
       "      <th>44</th>\n",
       "      <td>5.2</td>\n",
       "      <td>48</td>\n",
       "      <td>Biryani</td>\n",
       "    </tr>\n",
       "    <tr>\n",
       "      <th>42</th>\n",
       "      <td>5.6</td>\n",
       "      <td>49</td>\n",
       "      <td>Chicken Pulao</td>\n",
       "    </tr>\n",
       "    <tr>\n",
       "      <th>40</th>\n",
       "      <td>5</td>\n",
       "      <td>50</td>\n",
       "      <td>Chicken Pulao</td>\n",
       "    </tr>\n",
       "    <tr>\n",
       "      <th>...</th>\n",
       "      <td>...</td>\n",
       "      <td>...</td>\n",
       "      <td>...</td>\n",
       "    </tr>\n",
       "    <tr>\n",
       "      <th>86</th>\n",
       "      <td>5.1</td>\n",
       "      <td>96</td>\n",
       "      <td>Biryani</td>\n",
       "    </tr>\n",
       "    <tr>\n",
       "      <th>0</th>\n",
       "      <td>5.8</td>\n",
       "      <td>101</td>\n",
       "      <td>Chicken Pulao</td>\n",
       "    </tr>\n",
       "    <tr>\n",
       "      <th>33</th>\n",
       "      <td>5.1</td>\n",
       "      <td>103</td>\n",
       "      <td>Chapel Kaba</td>\n",
       "    </tr>\n",
       "    <tr>\n",
       "      <th>34</th>\n",
       "      <td>6</td>\n",
       "      <td>110</td>\n",
       "      <td>Chapel Kaba</td>\n",
       "    </tr>\n",
       "    <tr>\n",
       "      <th>75</th>\n",
       "      <td>6</td>\n",
       "      <td>125</td>\n",
       "      <td>Chapel Kaba</td>\n",
       "    </tr>\n",
       "  </tbody>\n",
       "</table>\n",
       "<p>87 rows × 3 columns</p>\n",
       "</div>"
      ],
      "text/plain": [
       "   height  weight favourite_Dish\n",
       "26      5      25        Biryani\n",
       "35      5      31        Biryani\n",
       "44    5.2      48        Biryani\n",
       "42    5.6      49  Chicken Pulao\n",
       "40      5      50  Chicken Pulao\n",
       "..    ...     ...            ...\n",
       "86    5.1      96        Biryani\n",
       "0     5.8     101  Chicken Pulao\n",
       "33    5.1     103    Chapel Kaba\n",
       "34      6     110    Chapel Kaba\n",
       "75      6     125    Chapel Kaba\n",
       "\n",
       "[87 rows x 3 columns]"
      ]
     },
     "execution_count": 19,
     "metadata": {},
     "output_type": "execute_result"
    }
   ],
   "source": [
    "df.sort_values(by=\"weight\")"
   ]
  }
 ],
 "metadata": {
  "kernelspec": {
   "display_name": "Python 3",
   "language": "python",
   "name": "python3"
  },
  "language_info": {
   "codemirror_mode": {
    "name": "ipython",
    "version": 3
   },
   "file_extension": ".py",
   "mimetype": "text/x-python",
   "name": "python",
   "nbconvert_exporter": "python",
   "pygments_lexer": "ipython3",
   "version": "3.13.5"
  }
 },
 "nbformat": 4,
 "nbformat_minor": 5
}
